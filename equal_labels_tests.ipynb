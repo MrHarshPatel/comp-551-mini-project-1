{
 "cells": [
  {
   "cell_type": "code",
   "execution_count": 69,
   "metadata": {},
   "outputs": [],
   "source": [
    "def reduce_dataset_to_equal_labels(dataset):\n",
    "    separated = {}\n",
    "    for i,row in enumerate(dataset):\n",
    "        class_value = row[-1]\n",
    "        if(class_value not in separated):\n",
    "            separated[class_value] = {}\n",
    "            separated[class_value][\"data\"] = []\n",
    "            separated[class_value][\"count\"] = 0\n",
    "        separated[class_value][\"data\"].append(row)\n",
    "        separated[class_value][\"count\"] += 1\n",
    "    \n",
    "    \n",
    "    equalized_data = get_equalized_data(separated)\n",
    "    return equalized_data"
   ]
  },
  {
   "cell_type": "code",
   "execution_count": 70,
   "metadata": {},
   "outputs": [],
   "source": [
    "def get_equalized_data(classes_data):\n",
    "    minimum_count = 999999999999999\n",
    "    for class_value, class_data in classes_data.items():\n",
    "        if(class_data[\"count\"] < minimum_count):\n",
    "            minimum_count = class_data[\"count\"]\n",
    "    \n",
    "    data = []\n",
    "    print(\"Minimum label count:\", minimum_count)\n",
    "    for class_value, class_data in classes_data.items():\n",
    "        np.random.shuffle(class_data[\"data\"])\n",
    "        data = data + class_data[\"data\"][:minimum_count]\n",
    "    \n",
    "    print(\"Length of equalized data:\", len(data))\n",
    "\n",
    "    return np.array(data)"
   ]
  },
  {
   "cell_type": "code",
   "execution_count": 76,
   "metadata": {},
   "outputs": [],
   "source": [
    "def run_equal_labels_test():\n",
    "    for name,dataset in train_val.items():\n",
    "        print()\n",
    "        print(\"Reducing to equal labels for\",name)\n",
    "        data = reduce_dataset_to_equal_labels(dataset[0])\n",
    "        print(\"Running logistic regression on\", name)\n",
    "        model = run_fit(data,\"LogisticRegression\",[],[],best_logistic_model_args+ [False])\n",
    "        print()\n",
    "        print()\n",
    "        print(\"Running predictions on test set\",name,\" length:\",len(split_data['test'][name]))\n",
    "        predictions = run_predict(test_val_new[name],model)\n",
    "        print(\"Testing on test set got accuracy of\", predictions)\n",
    "        print(\"Running 5-fold for\",name)\n",
    "        print(\"Got 5-fold accuracy of:\",k_fold_cross_validation(5, data, model_name=\"LogisticRegression\"))\n",
    "        \n",
    "        print()"
   ]
  },
  {
   "cell_type": "code",
   "execution_count": 77,
   "metadata": {},
   "outputs": [
    {
     "ename": "NameError",
     "evalue": "name 'train_val' is not defined",
     "output_type": "error",
     "traceback": [
      "\u001b[0;31m---------------------------------------------------------------\u001b[0m",
      "\u001b[0;31mNameError\u001b[0m                     Traceback (most recent call last)",
      "\u001b[0;32m<ipython-input-77-49e6efdfe614>\u001b[0m in \u001b[0;36m<module>\u001b[0;34m()\u001b[0m\n\u001b[0;32m----> 1\u001b[0;31m \u001b[0mrun_equal_labels_test\u001b[0m\u001b[0;34m(\u001b[0m\u001b[0;34m)\u001b[0m\u001b[0;34m\u001b[0m\u001b[0m\n\u001b[0m",
      "\u001b[0;32m<ipython-input-76-5e76adc4cd42>\u001b[0m in \u001b[0;36mrun_equal_labels_test\u001b[0;34m()\u001b[0m\n\u001b[1;32m      1\u001b[0m \u001b[0;32mdef\u001b[0m \u001b[0mrun_equal_labels_test\u001b[0m\u001b[0;34m(\u001b[0m\u001b[0;34m)\u001b[0m\u001b[0;34m:\u001b[0m\u001b[0;34m\u001b[0m\u001b[0m\n\u001b[0;32m----> 2\u001b[0;31m     \u001b[0;32mfor\u001b[0m \u001b[0mname\u001b[0m\u001b[0;34m,\u001b[0m\u001b[0mdataset\u001b[0m \u001b[0;32min\u001b[0m \u001b[0mtrain_val\u001b[0m\u001b[0;34m.\u001b[0m\u001b[0mitems\u001b[0m\u001b[0;34m(\u001b[0m\u001b[0;34m)\u001b[0m\u001b[0;34m:\u001b[0m\u001b[0;34m\u001b[0m\u001b[0m\n\u001b[0m\u001b[1;32m      3\u001b[0m         \u001b[0mprint\u001b[0m\u001b[0;34m(\u001b[0m\u001b[0;34m)\u001b[0m\u001b[0;34m\u001b[0m\u001b[0m\n\u001b[1;32m      4\u001b[0m         \u001b[0mprint\u001b[0m\u001b[0;34m(\u001b[0m\u001b[0;34m\"Reducing to equal labels for\"\u001b[0m\u001b[0;34m,\u001b[0m\u001b[0mname\u001b[0m\u001b[0;34m)\u001b[0m\u001b[0;34m\u001b[0m\u001b[0m\n\u001b[1;32m      5\u001b[0m         \u001b[0mdata\u001b[0m \u001b[0;34m=\u001b[0m \u001b[0mreduce_dataset_to_equal_labels\u001b[0m\u001b[0;34m(\u001b[0m\u001b[0mdataset\u001b[0m\u001b[0;34m[\u001b[0m\u001b[0;36m0\u001b[0m\u001b[0;34m]\u001b[0m\u001b[0;34m)\u001b[0m\u001b[0;34m\u001b[0m\u001b[0m\n",
      "\u001b[0;31mNameError\u001b[0m: name 'train_val' is not defined"
     ]
    }
   ],
   "source": [
    "run_equal_labels_test()"
   ]
  },
  {
   "cell_type": "code",
   "execution_count": null,
   "metadata": {},
   "outputs": [],
   "source": []
  }
 ],
 "metadata": {
  "kernelspec": {
   "display_name": "Python 3",
   "language": "python",
   "name": "python3"
  },
  "language_info": {
   "codemirror_mode": {
    "name": "ipython",
    "version": 3
   },
   "file_extension": ".py",
   "mimetype": "text/x-python",
   "name": "python",
   "nbconvert_exporter": "python",
   "pygments_lexer": "ipython3",
   "version": "3.7.0"
  }
 },
 "nbformat": 4,
 "nbformat_minor": 2
}
