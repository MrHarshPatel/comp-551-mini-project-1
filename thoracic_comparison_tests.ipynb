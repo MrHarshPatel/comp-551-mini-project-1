{
 "cells": [
  {
   "cell_type": "code",
   "execution_count": 75,
   "metadata": {},
   "outputs": [],
   "source": [
    "import numpy as np"
   ]
  },
  {
   "cell_type": "code",
   "execution_count": 76,
   "metadata": {},
   "outputs": [],
   "source": [
    "%store -r thoracic_export\n",
    "%store -r thoracic_headers\n"
   ]
  },
  {
   "cell_type": "code",
   "execution_count": 77,
   "metadata": {},
   "outputs": [],
   "source": [
    "%run validation.ipynb"
   ]
  },
  {
   "cell_type": "code",
   "execution_count": 78,
   "metadata": {},
   "outputs": [],
   "source": [
    "%store -r thoracic_gaussian_headers"
   ]
  },
  {
   "cell_type": "code",
   "execution_count": 79,
   "metadata": {},
   "outputs": [],
   "source": [
    "def re_run_thoracic(headers):\n",
    "    datasets = {\n",
    "        \"thoracic_surgery\": [thoracic_export,headers],\n",
    "    }\n",
    "    return datasets"
   ]
  },
  {
   "cell_type": "code",
   "execution_count": 80,
   "metadata": {},
   "outputs": [],
   "source": [
    "'''\n",
    "Splits to train+validation and test based on train_validation_percent.\n",
    "'''\n",
    "def train_test_split(datasets, train_validation_percent):\n",
    "    train_test_split = {}\n",
    "    train_test_split['train_and_validation'] = {}\n",
    "    train_test_split['test'] = {}\n",
    "    for dataset_name, dataset in datasets.items():\n",
    "        shuffled_dataset = dataset[0]\n",
    "        np.random.shuffle(shuffled_dataset)\n",
    "        \n",
    "        \n",
    "        length = len(shuffled_dataset)\n",
    "        train_length = int(length*train_validation_percent)\n",
    "        \n",
    "        train_test_split['train_and_validation'][dataset_name] = []\n",
    "        \n",
    "        # TRAIN _AND _VALIDATION holds datasets dict with [data, headers] for each\n",
    "        train_test_split['train_and_validation'][dataset_name].append(shuffled_dataset[:train_length])\n",
    "        train_test_split['train_and_validation'][dataset_name].append(dataset[1])\n",
    "        \n",
    "        # SET ASIDE TEST holds the testing data only\n",
    "        train_test_split['test'][dataset_name] = shuffled_dataset[train_length:]\n",
    "\n",
    "    \n",
    "    return train_test_split"
   ]
  },
  {
   "cell_type": "code",
   "execution_count": null,
   "metadata": {},
   "outputs": [],
   "source": []
  },
  {
   "cell_type": "code",
   "execution_count": 81,
   "metadata": {},
   "outputs": [
    {
     "name": "stdout",
     "output_type": "stream",
     "text": [
      "{'thoracic_surgery': [array([[ 3.  ,  3.88,  2.84, ...,  0.  , 66.  ,  1.  ],\n",
      "       [ 4.  ,  2.72,  2.04, ...,  0.  , 75.  ,  0.  ],\n",
      "       [ 3.  ,  3.52,  2.92, ...,  0.  , 63.  ,  0.  ],\n",
      "       ...,\n",
      "       [ 3.  ,  2.96,  2.32, ...,  0.  , 51.  ,  0.  ],\n",
      "       [ 3.  ,  2.1 , 69.1 , ...,  0.  , 62.  ,  0.  ],\n",
      "       [ 5.  ,  3.8 ,  2.98, ...,  0.  , 60.  ,  1.  ]]), array(['dgn_code_g', 'forced_vital_capacity_g',\n",
      "       'volume_exhaled_after_fs_forced_expiration_g',\n",
      "       'performance_status_g', 'pain_before_b', 'haemoptysis_before_b',\n",
      "       'dyspnoea_before_b', 'cough_before_b', 'weakness_before_b',\n",
      "       'size_of_original_tumour_g', 'type_2_diabetes_b',\n",
      "       'mi_up_to_6_months_b', 'pad_b', 'smoking_b', 'asthma_b',\n",
      "       'age_at_surgery_g', 'survival_after_one_year_b'], dtype=object)]}\n"
     ]
    }
   ],
   "source": [
    "print(datasets)\n"
   ]
  },
  {
   "cell_type": "code",
   "execution_count": 82,
   "metadata": {},
   "outputs": [
    {
     "name": "stdout",
     "output_type": "stream",
     "text": [
      "Splitting with training 10.0% for each dataset -----\n",
      "\t thoracic_surgery Train Size: 39\n",
      "\t thoracic_surgery Test Size: 71\n",
      "\n",
      "\tFitting thoracic_surgery with LogisticRegression \n",
      "\tPredicting thoracic_surgery with LogisticRegression\n",
      "\t\tGot accuracy of: 0.8732394366197183\n",
      "\n",
      "\tFitting thoracic_surgery with NaiveBayes \n",
      "\tPredicting thoracic_surgery with NaiveBayes\n",
      "\t\tGot accuracy of: 0.7323943661971831\n",
      "\n",
      "\tFitting thoracic_surgery with NaiveBayesLog \n",
      "\tPredicting thoracic_surgery with NaiveBayesLog\n",
      "\t\tGot accuracy of: 0.6901408450704225\n",
      "Splitting with training 30.0% for each dataset -----\n",
      "\t thoracic_surgery Train Size: 119\n",
      "\t thoracic_surgery Test Size: 71\n",
      "\n",
      "\tFitting thoracic_surgery with LogisticRegression \n",
      "\tPredicting thoracic_surgery with LogisticRegression\n",
      "\t\tGot accuracy of: 0.8732394366197183\n",
      "\n",
      "\tFitting thoracic_surgery with NaiveBayes \n",
      "\tPredicting thoracic_surgery with NaiveBayes\n",
      "\t\tGot accuracy of: 0.5774647887323944\n",
      "\n",
      "\tFitting thoracic_surgery with NaiveBayesLog \n",
      "\tPredicting thoracic_surgery with NaiveBayesLog\n",
      "\t\tGot accuracy of: 0.4507042253521127\n",
      "Splitting with training 50.0% for each dataset -----\n",
      "\t thoracic_surgery Train Size: 199\n",
      "\t thoracic_surgery Test Size: 71\n",
      "\n",
      "\tFitting thoracic_surgery with LogisticRegression \n",
      "\tPredicting thoracic_surgery with LogisticRegression\n",
      "\t\tGot accuracy of: 0.8732394366197183\n",
      "\n",
      "\tFitting thoracic_surgery with NaiveBayes \n",
      "\tPredicting thoracic_surgery with NaiveBayes\n",
      "\t\tGot accuracy of: 0.676056338028169\n",
      "\n",
      "\tFitting thoracic_surgery with NaiveBayesLog \n",
      "\tPredicting thoracic_surgery with NaiveBayesLog\n",
      "\t\tGot accuracy of: 0.2676056338028169\n",
      "Splitting with training 70.0% for each dataset -----\n",
      "\t thoracic_surgery Train Size: 279\n",
      "\t thoracic_surgery Test Size: 71\n",
      "\n",
      "\tFitting thoracic_surgery with LogisticRegression \n",
      "\tPredicting thoracic_surgery with LogisticRegression\n",
      "\t\tGot accuracy of: 0.8732394366197183\n",
      "\n",
      "\tFitting thoracic_surgery with NaiveBayes \n",
      "\tPredicting thoracic_surgery with NaiveBayes\n",
      "\t\tGot accuracy of: 0.647887323943662\n",
      "\n",
      "\tFitting thoracic_surgery with NaiveBayesLog \n",
      "\tPredicting thoracic_surgery with NaiveBayesLog\n",
      "\t\tGot accuracy of: 0.28169014084507044\n",
      "Splitting with training 100.0% for each dataset -----\n",
      "\t thoracic_surgery Train Size: 399\n",
      "\t thoracic_surgery Test Size: 71\n",
      "\n",
      "\tFitting thoracic_surgery with LogisticRegression \n",
      "\tPredicting thoracic_surgery with LogisticRegression\n",
      "\t\tGot accuracy of: 0.8732394366197183\n",
      "\n",
      "\tFitting thoracic_surgery with NaiveBayes \n",
      "\tPredicting thoracic_surgery with NaiveBayes\n",
      "\t\tGot accuracy of: 0.5633802816901409\n",
      "\n",
      "\tFitting thoracic_surgery with NaiveBayesLog \n",
      "\tPredicting thoracic_surgery with NaiveBayesLog\n",
      "\t\tGot accuracy of: 0.2535211267605634\n"
     ]
    }
   ],
   "source": [
    "datasets = re_run_thoracic(thoracic_headers)\n",
    "'''\n",
    "85% train + validation\n",
    "15% test\n",
    "'''\n",
    "split_data = train_test_split(datasets,0.85)\n",
    "\n",
    "test_val_new = split_data['test']\n",
    "'''\n",
    "Set train_val variable for tests\n",
    "'''\n",
    "train_val = split_data['train_and_validation']\n",
    "        \n",
    "best_logistic_model_args= [1,0.01,False,1e-2]\n",
    "%run splits_tests.ipynb"
   ]
  },
  {
   "cell_type": "code",
   "execution_count": 99,
   "metadata": {},
   "outputs": [],
   "source": [
    "def thoracic_comparison_tests():\n",
    "    for i in range(5):\n",
    "        datasets = re_run_thoracic(thoracic_headers)\n",
    "        '''\n",
    "        85% train + validation\n",
    "        15% test\n",
    "        '''\n",
    "        split_data = train_test_split(datasets,0.85)\n",
    "\n",
    "        '''\n",
    "        Set train_val variable for tests\n",
    "        '''\n",
    "        train_val = split_data['train_and_validation']\n",
    "        models = {\n",
    "            \"NaiveBayes\": {\n",
    "                \"data_headers\": True,\n",
    "                \"model_args\":[False] \n",
    "            },\n",
    "            \"NaiveBayesLog\": {\n",
    "                \"data_headers\": True,\n",
    "                \"model_args\":[True] \n",
    "            },\n",
    "        }\n",
    "\n",
    "        print(\"Non-Gaussian Fitting:\")\n",
    "        model_nb = run_fit(train_val['thoracic_surgery'][0],\"NaiveBayes\", thoracic_headers,[] ,[False])\n",
    "        model_nb_log = run_fit(train_val['thoracic_surgery'][0],\"NaiveBayesLog\", thoracic_headers,[] ,[True])\n",
    "        \n",
    "        print(\"Non-Gaussian Test NaiveBayes #\", i,\":\", run_predict(split_data['test']['thoracic_surgery'],model_nb))\n",
    "        print(\"Non-Gaussian Test NaiveBayesLog #\", i,\":\", run_predict(split_data['test']['thoracic_surgery'],model_nb_log))\n",
    "\n",
    "        print(\"Gaussian Fitting:\")\n",
    "        model_nb_2 = run_fit(train_val['thoracic_surgery'][0],\"NaiveBayes\", thoracic_gaussian_headers,[] ,[False])\n",
    "        model_nb_2_log = run_fit(train_val['thoracic_surgery'][0],\"NaiveBayesLog\", thoracic_gaussian_headers,[] ,[True])\n",
    "        \n",
    "        print(\"Non-Gaussian Test NaiveBayes #\", i,\":\", run_predict(split_data['test']['thoracic_surgery'],model_nb_2))\n",
    "        print(\"Non-Gaussian Test NaiveBayesLog #\", i,\":\", run_predict(split_data['test']['thoracic_surgery'],model_nb_2_log))"
   ]
  },
  {
   "cell_type": "code",
   "execution_count": 100,
   "metadata": {},
   "outputs": [
    {
     "name": "stdout",
     "output_type": "stream",
     "text": [
      "Non-Gaussian Fitting:\n",
      "Non-Gaussian Test NaiveBayes # 0 : 0.8028169014084507\n",
      "Non-Gaussian Test NaiveBayesLog # 0 : 0.704225352112676\n",
      "Gaussian Fitting:\n",
      "Non-Gaussian Test NaiveBayes # 0 : 0.8028169014084507\n",
      "Non-Gaussian Test NaiveBayesLog # 0 : 0.704225352112676\n",
      "Non-Gaussian Fitting:\n",
      "Non-Gaussian Test NaiveBayes # 1 : 0.7887323943661971\n",
      "Non-Gaussian Test NaiveBayesLog # 1 : 0.6338028169014085\n",
      "Gaussian Fitting:\n",
      "Non-Gaussian Test NaiveBayes # 1 : 0.7887323943661971\n",
      "Non-Gaussian Test NaiveBayesLog # 1 : 0.6338028169014085\n",
      "Non-Gaussian Fitting:\n",
      "Non-Gaussian Test NaiveBayes # 2 : 0.8309859154929577\n",
      "Non-Gaussian Test NaiveBayesLog # 2 : 0.7323943661971831\n",
      "Gaussian Fitting:\n",
      "Non-Gaussian Test NaiveBayes # 2 : 0.8309859154929577\n",
      "Non-Gaussian Test NaiveBayesLog # 2 : 0.7323943661971831\n",
      "Non-Gaussian Fitting:\n",
      "Non-Gaussian Test NaiveBayes # 3 : 0.7464788732394366\n",
      "Non-Gaussian Test NaiveBayesLog # 3 : 0.7183098591549296\n",
      "Gaussian Fitting:\n",
      "Non-Gaussian Test NaiveBayes # 3 : 0.7464788732394366\n",
      "Non-Gaussian Test NaiveBayesLog # 3 : 0.7183098591549296\n",
      "Non-Gaussian Fitting:\n",
      "Non-Gaussian Test NaiveBayes # 4 : 0.8450704225352113\n",
      "Non-Gaussian Test NaiveBayesLog # 4 : 0.7887323943661971\n",
      "Gaussian Fitting:\n",
      "Non-Gaussian Test NaiveBayes # 4 : 0.8450704225352113\n",
      "Non-Gaussian Test NaiveBayesLog # 4 : 0.7887323943661971\n"
     ]
    }
   ],
   "source": [
    "thoracic_comparison_tests()"
   ]
  },
  {
   "cell_type": "code",
   "execution_count": null,
   "metadata": {},
   "outputs": [],
   "source": []
  }
 ],
 "metadata": {
  "kernelspec": {
   "display_name": "Python 3",
   "language": "python",
   "name": "python3"
  },
  "language_info": {
   "codemirror_mode": {
    "name": "ipython",
    "version": 3
   },
   "file_extension": ".py",
   "mimetype": "text/x-python",
   "name": "python",
   "nbconvert_exporter": "python",
   "pygments_lexer": "ipython3",
   "version": "3.7.0"
  }
 },
 "nbformat": 4,
 "nbformat_minor": 2
}
