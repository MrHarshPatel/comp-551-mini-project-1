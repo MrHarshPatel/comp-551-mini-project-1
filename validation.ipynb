{
 "cells": [
  {
   "cell_type": "code",
   "execution_count": 74,
   "metadata": {},
   "outputs": [],
   "source": [
    "import numpy as np"
   ]
  },
  {
   "cell_type": "code",
   "execution_count": 75,
   "metadata": {},
   "outputs": [],
   "source": [
    "%store -r adult_data_headers\n",
    "%store -r adult_data_export"
   ]
  },
  {
   "cell_type": "code",
   "execution_count": 91,
   "metadata": {},
   "outputs": [],
   "source": [
    "%run naive_bayes.ipynb"
   ]
  },
  {
   "cell_type": "code",
   "execution_count": 92,
   "metadata": {},
   "outputs": [],
   "source": [
    "# %run logistic_regression.ipynb"
   ]
  },
  {
   "cell_type": "code",
   "execution_count": 93,
   "metadata": {},
   "outputs": [],
   "source": [
    "data = adult_data_export\n",
    "data_headers = adult_data_headers\n",
    "# data.shape"
   ]
  },
  {
   "cell_type": "code",
   "execution_count": 94,
   "metadata": {},
   "outputs": [],
   "source": [
    "def get_new_model(model):\n",
    "    if model == \"LogisticRegression\":\n",
    "        return LogisticRegression(1000)\n",
    "    else:\n",
    "        return NaiveBayes()"
   ]
  },
  {
   "cell_type": "code",
   "execution_count": 95,
   "metadata": {},
   "outputs": [],
   "source": [
    "def evaluate_acc(y,yh):\n",
    "    tp = np.sum(np.logical_and(yh==1,y==1))\n",
    "    tn = np.sum(np.logical_and(yh==0,y==0))\n",
    "    \n",
    "    acc = (tp+tn)/y.size\n",
    "    return acc"
   ]
  },
  {
   "cell_type": "code",
   "execution_count": 96,
   "metadata": {},
   "outputs": [],
   "source": [
    "def get_folds(k, data):\n",
    "    np.random.shuffle(data)\n",
    "    \n",
    "    # Split into k-folds and remove empty splits if not appropriate size\n",
    "    folds = np.array_split(data, k)\n",
    "    folds = [x for x in folds if x.size > 0]\n",
    "    \n",
    "    return folds"
   ]
  },
  {
   "cell_type": "code",
   "execution_count": 97,
   "metadata": {},
   "outputs": [],
   "source": [
    "def k_fold_cross_validation(k, data, model_name=\"LogisticRegression\", data_headers=[]):\n",
    "    np.random.shuffle(data)\n",
    "    data = data[:5000]\n",
    "    folds = get_folds(k,data)\n",
    "    fold_accuracies = []\n",
    "    for i in range(k):\n",
    "        print(i)\n",
    "        model = get_new_model(model_name)\n",
    "        \n",
    "        # Get test row, and training set\n",
    "        test = folds[i]\n",
    "        train = np.delete(folds, i, 0)\n",
    "        \n",
    "        train = np.concatenate(train,axis=0)\n",
    "        train = np.array(train)\n",
    "        \n",
    "        train_X = train[:, :-1]\n",
    "        train_Y = train[:, -1]\n",
    "        \n",
    "        # Fit and predict\n",
    "        model.fit(train_X, train_Y)\n",
    "        if(model_name == \"NaiveBayes\"):\n",
    "            model.set_headers(data_headers)\n",
    "            \n",
    "        test_X = test[:, :-1]\n",
    "        test_Y = test[:, -1]\n",
    "        print(test_X)\n",
    "        model_results = model.predict(test_X)\n",
    "        \n",
    "        fold_accuracies.append(evaluate_acc(model_results,test_Y))\n",
    "    return np.average(fold_accuracies)"
   ]
  },
  {
   "cell_type": "code",
   "execution_count": 98,
   "metadata": {},
   "outputs": [
    {
     "name": "stdout",
     "output_type": "stream",
     "text": [
      "0\n",
      "(4500,)\n",
      "[[    60 235535      9 ...      1      0      0]\n",
      " [    36 327435     14 ...      1      0      0]\n",
      " [    41  26892     13 ...      1      0      0]\n",
      " ...\n",
      " [    59 170148     10 ...      1      0      0]\n",
      " [    40 222011     14 ...      1      0      0]\n",
      " [    23 265148     13 ...      1      0      0]]\n",
      "1\n",
      "(4500,)\n",
      "[[    23 233280     13 ...      1      0      0]\n",
      " [    22 315524     10 ...      0      0      0]\n",
      " [    25 187653      9 ...      1      0      0]\n",
      " ...\n",
      " [    24 448026     13 ...      1      0      0]\n",
      " [    40  40024     15 ...      1      0      0]\n",
      " [    30  55912     13 ...      1      0      0]]\n",
      "2\n",
      "(4500,)\n",
      "[[    40 356934      9 ...      1      0      0]\n",
      " [    36 166115     10 ...      1      0      0]\n",
      " [    52 201783     10 ...      1      0      0]\n",
      " ...\n",
      " [    39 158956     10 ...      1      0      0]\n",
      " [    22  52262     10 ...      1      0      0]\n",
      " [    21 205759      9 ...      1      0      0]]\n",
      "3\n",
      "(4500,)\n",
      "[[    36 185556     13 ...      1      0      0]\n",
      " [    24  97676     10 ...      1      0      0]\n",
      " [    26  73047     10 ...      1      0      0]\n",
      " ...\n",
      " [    19 278304     10 ...      1      0      0]\n",
      " [    40 246949      9 ...      1      0      0]\n",
      " [    62 584259      9 ...      1      0      0]]\n",
      "4\n",
      "(4500,)\n",
      "[[    62 180162      5 ...      1      0      0]\n",
      " [    23 282579     11 ...      1      0      0]\n",
      " [    29 124953     11 ...      1      0      0]\n",
      " ...\n",
      " [    35 272476     12 ...      1      0      0]\n",
      " [    19 121240      9 ...      1      0      0]\n",
      " [    54  32778      9 ...      1      0      0]]\n",
      "5\n",
      "(4500,)\n",
      "[[    52 172493      9 ...      1      0      0]\n",
      " [    22 305498      9 ...      1      0      0]\n",
      " [    39 211440     13 ...      1      0      0]\n",
      " ...\n",
      " [    35 238433     11 ...      1      0      0]\n",
      " [    59 128105      9 ...      1      0      0]\n",
      " [    37 289653      9 ...      1      0      0]]\n",
      "6\n",
      "(4500,)\n",
      "[[    29 568490      9 ...      1      0      0]\n",
      " [    27  56870      9 ...      1      0      0]\n",
      " [    48 159726      9 ...      1      0      0]\n",
      " ...\n",
      " [    19 201743     10 ...      1      0      0]\n",
      " [    31 118966      9 ...      1      0      0]\n",
      " [    56  38573     12 ...      1      0      0]]\n",
      "7\n",
      "(4500,)\n",
      "[[    44  59474      9 ...      1      0      0]\n",
      " [    22 228752      9 ...      1      0      0]\n",
      " [    28 130856      6 ...      1      0      0]\n",
      " ...\n",
      " [    21 347292      9 ...      1      0      0]\n",
      " [    45 255559      9 ...      1      0      0]\n",
      " [    51 162944      9 ...      1      0      0]]\n",
      "8\n",
      "(4500,)\n",
      "[[    45 112362      6 ...      1      0      0]\n",
      " [    19 115248     10 ...      0      1      0]\n",
      " [    58 199067     13 ...      1      0      0]\n",
      " ...\n",
      " [    22  40052     13 ...      1      0      0]\n",
      " [    25 199224     13 ...      1      0      0]\n",
      " [    32 515629      9 ...      1      0      0]]\n",
      "9\n",
      "(4500,)\n",
      "[[    39  99452     13 ...      1      0      0]\n",
      " [    27  68393     13 ...      1      0      0]\n",
      " [    25 202091     14 ...      1      0      0]\n",
      " ...\n",
      " [    27 401508      9 ...      1      0      0]\n",
      " [    43  56651      9 ...      1      0      0]\n",
      " [    46 204928     10 ...      1      0      0]]\n"
     ]
    },
    {
     "data": {
      "text/plain": [
       "0.8316000000000001"
      ]
     },
     "execution_count": 98,
     "metadata": {},
     "output_type": "execute_result"
    }
   ],
   "source": [
    "k_fold_cross_validation(10,data, model_name=\"NaiveBayes\", data_headers=data_headers)"
   ]
  },
  {
   "cell_type": "code",
   "execution_count": null,
   "metadata": {},
   "outputs": [],
   "source": [
    "# # np.random.shuffle(adult_data_export)\n",
    "\n",
    "# train_X = ionosphere_export[:300, :-1]\n",
    "# train_y = ionosphere_export[:300, -1]\n",
    "\n",
    "# test_X = ionosphere_export[300:, :-1]\n",
    "# test_y = ionosphere_export[300:, -1]\n",
    "\n",
    "# lr = LogisticRegression(100000)\n",
    "# lr.fit(train_X, train_y)\n",
    "\n",
    "# y_pred = lr.predict(test_X)\n",
    "# lr1_acc = evaluate_acc(y_pred, test_y)\n"
   ]
  },
  {
   "cell_type": "code",
   "execution_count": null,
   "metadata": {},
   "outputs": [],
   "source": [
    "# lr2 = linear_model.LogisticRegression()\n",
    "# lr2.fit(train_X, train_y)\n",
    "\n",
    "# print(lr2.coef_) # returns a matrix of weights (coefficients)'\n",
    "\n",
    "# y_pred = lr2.predict(test_X)\n",
    "# lr2_acc = evaluate_acc(y_pred, test_y)\n",
    "\n",
    "# print(\"lr1: \", lr1_acc)\n",
    "# print(\"lr2: \", lr2_acc)\n"
   ]
  }
 ],
 "metadata": {
  "kernelspec": {
   "display_name": "Python 3",
   "language": "python",
   "name": "python3"
  },
  "language_info": {
   "codemirror_mode": {
    "name": "ipython",
    "version": 3
   },
   "file_extension": ".py",
   "mimetype": "text/x-python",
   "name": "python",
   "nbconvert_exporter": "python",
   "pygments_lexer": "ipython3",
   "version": "3.7.0"
  }
 },
 "nbformat": 4,
 "nbformat_minor": 2
}
