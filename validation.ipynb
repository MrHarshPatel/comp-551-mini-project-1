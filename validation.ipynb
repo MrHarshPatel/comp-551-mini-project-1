{
 "cells": [
  {
   "cell_type": "code",
   "execution_count": 22,
   "metadata": {},
   "outputs": [],
   "source": [
    "import numpy as np"
   ]
  },
  {
   "cell_type": "code",
   "execution_count": 32,
   "metadata": {},
   "outputs": [],
   "source": [
    "%run data_preprocessing/ionosphere_data.ipynb"
   ]
  },
  {
   "cell_type": "code",
   "execution_count": 33,
   "metadata": {},
   "outputs": [],
   "source": [
    "%run logistic_regression.ipynb"
   ]
  },
  {
   "cell_type": "code",
   "execution_count": 34,
   "metadata": {},
   "outputs": [
    {
     "data": {
      "text/plain": [
       "(351, 34)"
      ]
     },
     "execution_count": 34,
     "metadata": {},
     "output_type": "execute_result"
    }
   ],
   "source": [
    "data = ionosphere_export\n",
    "data.shape"
   ]
  },
  {
   "cell_type": "code",
   "execution_count": 26,
   "metadata": {},
   "outputs": [],
   "source": [
    "def get_new_model():\n",
    "    return LogisticRegression()"
   ]
  },
  {
   "cell_type": "code",
   "execution_count": 27,
   "metadata": {},
   "outputs": [],
   "source": [
    "def evaluate_acc(y,yh):\n",
    "    tp = np.sum(np.logical_and(yh==1,y==1))\n",
    "    tn = np.sum(np.logical_and(yh==0,y==0))\n",
    "    \n",
    "    acc = (tp+tn)/y.size\n",
    "    return acc"
   ]
  },
  {
   "cell_type": "code",
   "execution_count": 28,
   "metadata": {},
   "outputs": [],
   "source": [
    "def get_folds(k, data):\n",
    "    np.random.shuffle(data)\n",
    "    \n",
    "    # Split into k-folds and remove empty splits if not appropriate size\n",
    "    folds = np.array_split(data, k)\n",
    "    folds = [x for x in folds if x.size > 0]\n",
    "    \n",
    "    return folds"
   ]
  },
  {
   "cell_type": "code",
   "execution_count": 35,
   "metadata": {},
   "outputs": [],
   "source": [
    "def k_fold_cross_validation(k, data):\n",
    "    folds = get_folds(k,data)\n",
    "    fold_accuracies = []\n",
    "    for i in range(k):\n",
    "        model = get_new_model()\n",
    "        \n",
    "        # Get test row, and training set\n",
    "        test = folds[i]\n",
    "        train = np.delete(folds, i, 0)\n",
    "        real_train = []\n",
    "        for fold in train:\n",
    "            for obj in fold:\n",
    "                real_train.append(obj)\n",
    "        \n",
    "        print(len(real_train))\n",
    "        \n",
    "        train = real_train\n",
    "        train = np.array(train)\n",
    "        train_X = train[:, :-1]\n",
    "        train_Y = train[:, -1]\n",
    "        \n",
    "        # Fit and predict\n",
    "        model.fit(train_X, train_Y)\n",
    "        test_X = test[:, :-1]\n",
    "        test_Y = test[:, -1]\n",
    "        model_results = model.predict(test_X)\n",
    "        \n",
    "        fold_accuracies.append(evaluate_acc(model_results,test_Y))\n",
    "    return np.average(fold_accuracies)"
   ]
  },
  {
   "cell_type": "code",
   "execution_count": 36,
   "metadata": {},
   "outputs": [
    {
     "name": "stdout",
     "output_type": "stream",
     "text": [
      "336\n",
      "337\n",
      "337\n",
      "337\n",
      "337\n",
      "337\n",
      "337\n",
      "337\n",
      "337\n",
      "337\n",
      "337\n",
      "337\n",
      "337\n",
      "337\n",
      "337\n",
      "337\n",
      "337\n",
      "337\n",
      "337\n",
      "337\n",
      "337\n",
      "337\n",
      "337\n",
      "337\n",
      "337\n"
     ]
    },
    {
     "data": {
      "text/plain": [
       "0.8687619047619047"
      ]
     },
     "execution_count": 36,
     "metadata": {},
     "output_type": "execute_result"
    }
   ],
   "source": [
    "k_fold_cross_validation(25,data)"
   ]
  },
  {
   "cell_type": "code",
   "execution_count": null,
   "metadata": {},
   "outputs": [],
   "source": []
  },
  {
   "cell_type": "code",
   "execution_count": null,
   "metadata": {},
   "outputs": [],
   "source": []
  }
 ],
 "metadata": {
  "kernelspec": {
   "display_name": "Python 3",
   "language": "python",
   "name": "python3"
  },
  "language_info": {
   "codemirror_mode": {
    "name": "ipython",
    "version": 3
   },
   "file_extension": ".py",
   "mimetype": "text/x-python",
   "name": "python",
   "nbconvert_exporter": "python",
   "pygments_lexer": "ipython3",
   "version": "3.7.4"
  }
 },
 "nbformat": 4,
 "nbformat_minor": 2
}
