{
 "cells": [
  {
   "cell_type": "code",
   "execution_count": 34,
   "metadata": {},
   "outputs": [],
   "source": [
    "import pandas as pd\n",
    "import numpy as np\n",
    "import time\n",
    "import statistics"
   ]
  },
  {
   "cell_type": "code",
   "execution_count": 13,
   "metadata": {},
   "outputs": [],
   "source": [
    "# %store -r ionosphere_headers\n",
    "# %store -r ionosphere_export"
   ]
  },
  {
   "cell_type": "code",
   "execution_count": 14,
   "metadata": {},
   "outputs": [],
   "source": [
    "%run naive_bayes.ipynb"
   ]
  },
  {
   "cell_type": "code",
   "execution_count": 15,
   "metadata": {},
   "outputs": [],
   "source": [
    "%run logistic_regression.ipynb"
   ]
  },
  {
   "cell_type": "code",
   "execution_count": 16,
   "metadata": {},
   "outputs": [],
   "source": [
    "# data = adult_data_export\n",
    "# data_headers = adult_data_headers\n",
    "# # data.shape"
   ]
  },
  {
   "cell_type": "code",
   "execution_count": 17,
   "metadata": {},
   "outputs": [],
   "source": [
    "def get_new_model(model,termination_rounds=10000,learning_rate=0.05,use_gradient=False,eps=1e-2):\n",
    "    if model == \"LogisticRegression\":\n",
    "        return LogisticRegression(termination_rounds, learning_rate, use_gradient, eps)\n",
    "    else:\n",
    "        return NaiveBayes()"
   ]
  },
  {
   "cell_type": "code",
   "execution_count": 18,
   "metadata": {},
   "outputs": [],
   "source": [
    "def evaluate_acc(y,yh):\n",
    "    tp = np.sum(np.logical_and(yh==1,y==1))\n",
    "    tn = np.sum(np.logical_and(yh==0,y==0))\n",
    "    \n",
    "    acc = (tp+tn)/y.size\n",
    "    return acc"
   ]
  },
  {
   "cell_type": "code",
   "execution_count": 19,
   "metadata": {},
   "outputs": [],
   "source": [
    "def get_folds(k, data):\n",
    "    np.random.shuffle(data)\n",
    "    \n",
    "    # Split into k-folds and remove empty splits if not appropriate size\n",
    "    folds = np.array_split(data, k)\n",
    "    folds = [x for x in folds if x.size > 0]\n",
    "    \n",
    "    return folds"
   ]
  },
  {
   "cell_type": "code",
   "execution_count": 37,
   "metadata": {},
   "outputs": [],
   "source": [
    "def k_fold_cross_validation(k, data, model_name=\"LogisticRegression\", data_headers=[], model_args=[]):\n",
    "    folds = get_folds(k,data)\n",
    "    fold_accuracies = []\n",
    "    all_fit_times = []\n",
    "    all_predict_times = []\n",
    "    all_total_times = []\n",
    "    \n",
    "    for i in range(k):\n",
    "        model = get_new_model(model_name,*model_args)\n",
    "        \n",
    "        # Get test row, and training set\n",
    "        test = folds[i]\n",
    "        train = np.delete(folds, i, 0)\n",
    "        \n",
    "        train = np.concatenate(train,axis=0)\n",
    "        train = np.array(train)\n",
    "        \n",
    "        train_X = train[:, :-1]\n",
    "        train_Y = train[:, -1]\n",
    "        \n",
    "        # Start total times\n",
    "        start_total_times = time.time()      \n",
    "        \n",
    "        \n",
    "        # Fit and predict\n",
    "        if(model_name == \"NaiveBayes\"):\n",
    "            model.set_headers(data_headers)\n",
    "            \n",
    "        # Start fit time\n",
    "        start_fit_time = time.time()\n",
    "        model.fit(train_X, train_Y)\n",
    "        all_fit_times.append(time.time() - start_fit_time)\n",
    "        \n",
    "        test_X = test[:, :-1]\n",
    "        test_Y = test[:, -1]\n",
    "        \n",
    "        start_predict_time = time.time()\n",
    "        model_results = model.predict(test_X)\n",
    "        \n",
    "        all_predict_times.append(time.time() - start_predict_time)\n",
    "        all_total_times.append(time.time() - start_total_times)\n",
    "        \n",
    "        fold_accuracies.append(evaluate_acc(model_results,test_Y))\n",
    "    \n",
    "    to_print = [\n",
    "        [\"Fit\",\"{:.4f}\".format(statistics.mean(all_fit_times)),\"{:.4f}\".format(max(all_fit_times)),\"{:.4f}\".format(min(all_fit_times))],\n",
    "        [\"Predict\",\"{:.4f}\".format(statistics.mean(all_predict_times)),\"{:.4f}\".format(max(all_predict_times)),\"{:.4f}\".format(min(all_predict_times))],\n",
    "        [\"Total\",\"{:.4f}\".format(statistics.mean(all_total_times)),\"{:.4f}\".format(max(all_total_times)),\"{:.4f}\".format(min(all_total_times))]\n",
    "    ]\n",
    "    df = pd.DataFrame(to_print, columns=[\"Type\", \"Average Time (s)\",\"Maximum Time (s)\",\"Minimum Time (s)\"])\n",
    "    print(df)\n",
    "    return np.average(fold_accuracies)"
   ]
  },
  {
   "cell_type": "code",
   "execution_count": null,
   "metadata": {},
   "outputs": [],
   "source": []
  },
  {
   "cell_type": "code",
   "execution_count": 21,
   "metadata": {
    "scrolled": true
   },
   "outputs": [],
   "source": [
    "# k_fold_cross_validation(10,data, model_name=\"NaiveBayes\", data_headers=data_headers)"
   ]
  },
  {
   "cell_type": "code",
   "execution_count": 22,
   "metadata": {},
   "outputs": [],
   "source": [
    "# # np.random.shuffle(adult_data_export)\n",
    "\n",
    "# train_X = ionosphere_export[:300, :-1]\n",
    "# train_y = ionosphere_export[:300, -1]\n",
    "\n",
    "# test_X = ionosphere_export[300:, :-1]\n",
    "# test_y = ionosphere_export[300:, -1]\n",
    "\n",
    "# lr = LogisticRegression(100000)\n",
    "# lr.fit(train_X, train_y)\n",
    "\n",
    "# y_pred = lr.predict(test_X)\n",
    "# lr1_acc = evaluate_acc(y_pred, test_y)\n"
   ]
  },
  {
   "cell_type": "code",
   "execution_count": 23,
   "metadata": {},
   "outputs": [],
   "source": [
    "# lr2 = linear_model.LogisticRegression()\n",
    "# lr2.fit(train_X, train_y)\n",
    "\n",
    "# print(lr2.coef_) # returns a matrix of weights (coefficients)'\n",
    "\n",
    "# y_pred = lr2.predict(test_X)\n",
    "# lr2_acc = evaluate_acc(y_pred, test_y)\n",
    "\n",
    "# print(\"lr1: \", lr1_acc)\n",
    "# print(\"lr2: \", lr2_acc)\n"
   ]
  },
  {
   "cell_type": "code",
   "execution_count": null,
   "metadata": {},
   "outputs": [],
   "source": []
  }
 ],
 "metadata": {
  "kernelspec": {
   "display_name": "Python 3",
   "language": "python",
   "name": "python3"
  },
  "language_info": {
   "codemirror_mode": {
    "name": "ipython",
    "version": 3
   },
   "file_extension": ".py",
   "mimetype": "text/x-python",
   "name": "python",
   "nbconvert_exporter": "python",
   "pygments_lexer": "ipython3",
   "version": "3.7.0"
  }
 },
 "nbformat": 4,
 "nbformat_minor": 2
}
