{
 "cells": [
  {
   "cell_type": "code",
   "execution_count": 16,
   "metadata": {},
   "outputs": [],
   "source": [
    "import pandas as pd \n",
    "import numpy as np\n",
    "from math import *"
   ]
  },
  {
   "cell_type": "code",
   "execution_count": 1,
   "metadata": {},
   "outputs": [],
   "source": [
    "class NaiveBayes:\n",
    "    def fit(self, X, Y):\n",
    "#         print(Y.shape)\n",
    "        self.dataset = np.append(X,Y.reshape(-1,1), axis=1)\n",
    "        self.total_rows = len(self.dataset)\n",
    "        self.class_data = self.get_data_by_class(self.dataset)\n",
    "        self.class_stats = self.get_stats_per_class(self.dataset)\n",
    "        self.feature_stats = self.get_stats_per_feature(self.dataset)\n",
    "        self.bernoulli_values = self.get_bernoulli_values()\n",
    "        \n",
    "    def get_data_by_class(self, dataset):\n",
    "        separated = {}\n",
    "        for i,row in enumerate(dataset):\n",
    "            class_value = row[-1]\n",
    "            if(class_value not in separated):\n",
    "                separated[class_value] = []\n",
    "            separated[class_value].append(row)\n",
    "        return separated\n",
    "    \n",
    "    def set_headers(self, headers):\n",
    "        self.headers = []\n",
    "        for header in headers:\n",
    "            if '_b' in header:\n",
    "                self.headers.append(1)\n",
    "            else:\n",
    "                self.headers.append(0)\n",
    "        return self.headers\n",
    "\n",
    "    def mean(self, numbers):\n",
    "        return sum(numbers)/float(len(numbers))\n",
    "    \n",
    "    def stdev(self, numbers):\n",
    "        mean = self.mean(numbers)\n",
    "        variance = sum([(x-mean)**2 for x in numbers]) / float(len(numbers)-1)\n",
    "        return sqrt(variance)\n",
    "    \n",
    "    def get_bernoulli_values(self):\n",
    "        self.bernoulli_values = {}\n",
    "        for class_name in self.class_stats:\n",
    "            self.bernoulli_values[class_name] = []\n",
    "            for index, is_bernoulli in enumerate(self.headers):\n",
    "                bernoulli_value = {}\n",
    "                if(is_bernoulli == 1):\n",
    "                    unique_vals = (np.unique(self.dataset[:,index]))\n",
    "                    for unique_val in unique_vals:\n",
    "                        bernoulli_value[unique_val] = self.calculate_bernoulli_probability(unique_val,index,class_name)\n",
    "                self.bernoulli_values[class_name].append(bernoulli_value)\n",
    "        return self.bernoulli_values\n",
    "\n",
    "    # [Mean, Stdev, Count] for each feature in dataset\n",
    "    def get_stats_per_feature(self, dataset):\n",
    "        stats = [[self.mean(feature), self.stdev(feature), len(feature)] for feature in zip(*dataset)]\n",
    "        del(stats[-1])\n",
    "        return stats\n",
    "    \n",
    "    def get_stats_per_class(self, dataset):\n",
    "        # Dictionary of class -> rows of that class\n",
    "        data_per_class = self.get_data_by_class(dataset)\n",
    "        stats_per_class = {}\n",
    "        for class_name, rows in data_per_class.items():\n",
    "            stats_per_class[class_name] = self.get_stats_per_feature(rows)\n",
    "        return stats_per_class\n",
    "    \n",
    "    # Estimates value x from mean and stdev!\n",
    "    def calculate_gaussian_probability(self, x, mean, stdev):\n",
    "        exponent = exp(-((x-mean)**2 / (2 * stdev**2 )))\n",
    "        return (1 / (sqrt(2 * pi) * stdev)) * exponent\n",
    "    \n",
    "    # Count (f_val on f_index and class_name)/Count (class_name)\n",
    "    def calculate_bernoulli_probability(self, f_val, f_index, class_name):        \n",
    "        count_f_val_and_class = 0\n",
    "        for row in self.class_data[class_name]:\n",
    "            if(row[f_index] == f_val):\n",
    "                count_f_val_and_class += 1\n",
    "        return (count_f_val_and_class)/self.class_stats[class_name][0][2]\n",
    "    \n",
    "    # Calculate probability a row is a given class\n",
    "    # self.headers is 1 for all feature indexes that are bernoulli\n",
    "    def predict_probabilities(self, row):\n",
    "        probabilities = {}\n",
    "        for class_name, class_stats in self.class_stats.items():\n",
    "            # First calculate P(c)\n",
    "            probabilities[class_name] = self.class_stats[class_name][0][2]/float(self.total_rows)\n",
    "            \n",
    "            # Loop through features and multiply their probabilities\n",
    "            # Prob(f_val given class_name) and multiply to probability[class_name]\n",
    "            for i in range(len(class_stats)):\n",
    "                if(self.headers[i] == 1):\n",
    "                    # Calculate P(x | c) * P(c)\n",
    "#                     print(class_name)\n",
    "#                     print(i)\n",
    "#                     print(row[i])\n",
    "                    \n",
    "                    if(row[i] in self.bernoulli_values[class_name][i]):\n",
    "                        probabilities[class_name] *= self.bernoulli_values[class_name][i][row[i]]\n",
    "                    else:\n",
    "                        probabilities[class_name] *= 0\n",
    "#                     self.calculate_bernoulli_probability(row[i],i,class_name)\n",
    "                else:\n",
    "                    mean = class_stats[i][0]\n",
    "                    stdev = class_stats[i][1]\n",
    "#                     count = class_stats[i][2]\n",
    "                    # Calculate P(x | c) * P(c)\n",
    "#                     print(\"GAUSSIAN FOR COLUMN: \", i)\n",
    "                    probabilities[class_name] *= self.calculate_gaussian_probability(row[i], mean, stdev)\n",
    "        \n",
    "        # Return P(c | \"features\")\n",
    "#         print(probabilities)\n",
    "        return probabilities\n",
    "    \n",
    "    def predict(self, rows_to_predict):\n",
    "        \n",
    "        predictions = []\n",
    "        if(self.headers == []):\n",
    "            print(\"Please input which headers are bernoulli using NaiveBayes().set_headers\")\n",
    "            return\n",
    "        for row in rows_to_predict:\n",
    "            probabilities = self.predict_probabilities(row)\n",
    "            best_label, best_prob = None, -1\n",
    "            for class_name, probability in probabilities.items():\n",
    "                if best_label is None or probability > best_prob:\n",
    "                    best_prob = probability\n",
    "                    best_label = class_name\n",
    "            predictions.append(best_label)\n",
    "        return np.array(predictions)"
   ]
  },
  {
   "cell_type": "code",
   "execution_count": 110,
   "metadata": {},
   "outputs": [],
   "source": [
    "# %store -r adult_data_headers\n",
    "# %store -r adult_data_export"
   ]
  },
  {
   "cell_type": "code",
   "execution_count": 101,
   "metadata": {},
   "outputs": [
    {
     "name": "stdout",
     "output_type": "stream",
     "text": [
      "[0, 0, 0, 1, 0, 0, 0, 1, 1, 1, 1, 1, 1, 1, 1, 1, 1, 1, 1, 1, 1, 1, 1, 1, 1, 1, 1, 1, 1, 1, 1, 1, 1, 1, 1, 1, 1, 1, 1, 1, 1, 1, 1, 1, 1, 1, 1, 1, 1, 1, 1, 1, 1, 1, 1, 1, 1, 1, 1, 1, 1, 1, 1, 1, 1, 1, 1, 1, 1, 1, 1, 1, 1, 1, 1, 1, 1, 1, 1, 1, 1, 1, 1, 1, 1, 1, 1, 1, 1, 1, 1, 1, 1, 1, 1, 1, 1, 1, 1, 1, 1, 1, 1, 0]\n"
     ]
    }
   ],
   "source": [
    "# NaiveBayes = NaiveBayes()\n",
    "# NaiveBayes.fit(adult_data_export)\n",
    "# print(NaiveBayes.set_headers(adult_data_headers))\n",
    "\n"
   ]
  },
  {
   "cell_type": "code",
   "execution_count": 102,
   "metadata": {},
   "outputs": [
    {
     "data": {
      "text/plain": [
       "[0, 1, 0, 0, 0, 1, 0, 1, 1, 1, 0, 1, 0]"
      ]
     },
     "execution_count": 102,
     "metadata": {},
     "output_type": "execute_result"
    }
   ],
   "source": [
    "# NaiveBayes.predict([[39,77516,13,0,2174,0,40,0,0,0,0,0,1,0,0,0,0,0,0,0,0,0,0,1,0,0,0,0,0,0,0,0,0,0,1,0,0,1,0,0,0,0,0,0,0,0,0,0,0,0,0,0,1,0,0,0,0,0,0,0,0,1,0,0,0,0,0,0,0,0,0,0,0,0,0,0,0,0,0,0,0,0,0,0,0,0,0,0,0,0,0,0,0,0,0,0,0,0,0,0,1,0,0],\n",
    "# [50,83311,13,0,0,0,13,0,0,0,0,1,0,0,0,0,0,0,0,0,0,0,0,1,0,0,0,0,0,0,0,0,1,0,0,0,0,0,0,0,1,0,0,0,0,0,0,0,0,0,0,1,0,0,0,0,0,0,0,0,0,1,0,0,0,0,0,0,0,0,0,0,0,0,0,0,0,0,0,0,0,0,0,0,0,0,0,0,0,0,0,0,0,0,0,0,0,0,0,0,1,0,0],\n",
    "# [38,215646,9,0,0,0,40,0,0,1,0,0,0,0,0,0,0,0,0,0,0,0,0,0,0,1,0,0,0,0,1,0,0,0,0,0,0,0,0,0,0,0,1,0,0,0,0,0,0,0,0,0,1,0,0,0,0,0,0,0,0,1,0,0,0,0,0,0,0,0,0,0,0,0,0,0,0,0,0,0,0,0,0,0,0,0,0,0,0,0,0,0,0,0,0,0,0,0,0,0,1,0,0],\n",
    "# [53,234721,7,0,0,0,40,0,0,1,0,0,0,0,0,1,0,0,0,0,0,0,0,0,0,0,0,0,0,0,0,0,1,0,0,0,0,0,0,0,0,0,1,0,0,0,0,0,0,0,0,1,0,0,0,0,0,0,0,1,0,0,0,0,0,0,0,0,0,0,0,0,0,0,0,0,0,0,0,0,0,0,0,0,0,0,0,0,0,0,0,0,0,0,0,0,0,0,0,0,1,0,0],\n",
    "# [28,338409,13,1,0,0,40,0,0,1,0,0,0,0,0,0,0,0,0,0,0,0,0,1,0,0,0,0,0,0,0,0,1,0,0,0,0,0,0,0,0,0,0,0,0,0,1,0,0,0,0,0,0,0,0,0,1,0,0,1,0,0,0,0,0,0,1,0,0,0,0,0,0,0,0,0,0,0,0,0,0,0,0,0,0,0,0,0,0,0,0,0,0,0,0,0,0,0,0,0,0,0,0],\n",
    "# [37,284582,14,1,0,0,40,0,0,1,0,0,0,0,0,0,0,0,0,0,0,0,0,0,0,0,1,0,0,0,0,0,1,0,0,0,0,0,0,0,1,0,0,0,0,0,0,0,0,0,0,0,0,0,0,0,1,0,0,0,0,1,0,0,0,0,0,0,0,0,0,0,0,0,0,0,0,0,0,0,0,0,0,0,0,0,0,0,0,0,0,0,0,0,0,0,0,0,0,0,1,0,0],\n",
    "# [49,160187,5,1,0,0,16,0,0,1,0,0,0,0,0,0,0,0,0,0,1,0,0,0,0,0,0,0,0,0,0,0,0,1,0,0,0,0,0,0,0,0,0,0,1,0,0,0,0,0,0,0,1,0,0,0,0,0,0,1,0,0,0,0,0,0,0,0,0,0,0,0,0,0,0,0,0,0,0,0,0,0,0,0,1,0,0,0,0,0,0,0,0,0,0,0,0,0,0,0,0,0,0],\n",
    "# [52,209642,9,0,0,0,45,0,0,0,0,1,0,0,0,0,0,0,0,0,0,0,0,0,0,1,0,0,0,0,0,0,1,0,0,0,0,0,0,0,1,0,0,0,0,0,0,0,0,0,0,1,0,0,0,0,0,0,0,0,0,1,0,0,0,0,0,0,0,0,0,0,0,0,0,0,0,0,0,0,0,0,0,0,0,0,0,0,0,0,0,0,0,0,0,0,0,0,0,0,1,0,0],\n",
    "# [31,45781,14,1,14084,0,50,0,0,1,0,0,0,0,0,0,0,0,0,0,0,0,0,0,0,0,1,0,0,0,0,0,0,0,1,0,0,0,0,0,0,0,0,0,0,0,1,0,0,0,0,0,1,0,0,0,0,0,0,0,0,1,0,0,0,0,0,0,0,0,0,0,0,0,0,0,0,0,0,0,0,0,0,0,0,0,0,0,0,0,0,0,0,0,0,0,0,0,0,0,1,0,0],\n",
    "# [42,159449,13,0,5178,0,40,0,0,1,0,0,0,0,0,0,0,0,0,0,0,0,0,1,0,0,0,0,0,0,0,0,1,0,0,0,0,0,0,0,1,0,0,0,0,0,0,0,0,0,0,1,0,0,0,0,0,0,0,0,0,1,0,0,0,0,0,0,0,0,0,0,0,0,0,0,0,0,0,0,0,0,0,0,0,0,0,0,0,0,0,0,0,0,0,0,0,0,0,0,1,0,0],\n",
    "# [37,280464,10,0,0,0,80,0,0,1,0,0,0,0,0,0,0,0,0,0,0,0,0,0,0,0,0,0,0,1,0,0,1,0,0,0,0,0,0,0,1,0,0,0,0,0,0,0,0,0,0,1,0,0,0,0,0,0,0,1,0,0,0,0,0,0,0,0,0,0,0,0,0,0,0,0,0,0,0,0,0,0,0,0,0,0,0,0,0,0,0,0,0,0,0,0,0,0,0,0,1,0,0],\n",
    "# [30,141297,13,0,0,0,40,0,0,0,0,0,1,0,0,0,0,0,0,0,0,0,0,1,0,0,0,0,0,0,0,0,1,0,0,0,0,0,0,0,0,0,0,0,0,0,1,0,0,0,0,1,0,0,0,0,0,0,1,0,0,0,0,0,0,0,0,0,0,0,0,0,0,0,0,0,0,0,0,0,1,0,0,0,0,0,0,0,0,0,0,0,0,0,0,0,0,0,0,0,0,0,0],\n",
    "# [23,122272,13,1,0,0,30,0,0,1,0,0,0,0,0,0,0,0,0,0,0,0,0,1,0,0,0,0,0,0,0,0,0,0,1,0,0,1,0,0,0,0,0,0,0,0,0,0,0,0,0,0,0,0,1,0,0,0,0,0,0,1,0,0,0,0,0,0,0,0,0,0,0,0,0,0,0,0,0,0,0,0,0,0,0,0,0,0,0,0,0,0,0,0,0,0,0,0,0,0,1,0,0]])"
   ]
  },
  {
   "cell_type": "code",
   "execution_count": 104,
   "metadata": {},
   "outputs": [],
   "source": [
    "# %run validation.ipynb"
   ]
  },
  {
   "cell_type": "code",
   "execution_count": null,
   "metadata": {},
   "outputs": [],
   "source": [
    "# evaluate_acc(adult_data_export[:-1],adult_data_export[-1])"
   ]
  },
  {
   "cell_type": "code",
   "execution_count": 62,
   "metadata": {},
   "outputs": [
    {
     "name": "stdout",
     "output_type": "stream",
     "text": [
      "Please input which headers are bernoulli using set_headers\n",
      "{0: [[2.7420144012, 0.9265683289298018, 5], [3.0054686692, 1.1073295894898725, 5]], 1: [[7.6146523718, 1.2344321550313704, 5], [2.9914679790000003, 1.4541931384601618, 5]]}\n"
     ]
    }
   ],
   "source": [
    "# # Test summarizing a dataset\n",
    "# dataset = [[3.393533211,2.331273381,0],\n",
    "# [3.110073483,1.781539638,0],\n",
    "# [1.343808831,3.368360954,0],\n",
    "# [3.582294042,4.67917911,0],\n",
    "# [2.280362439,2.866990263,0],\n",
    "# [7.423436942,4.696522875,1],\n",
    "# [5.745051997,3.533989803,1],\n",
    "# [9.172168622,2.511101045,1],\n",
    "# [7.792783481,3.424088941,1],\n",
    "# [7.939820817,0.791637231,1]]\n",
    "\n",
    "# NaiveBayes = NaiveBayes()\n",
    "# NaiveBayes.fit(dataset)\n",
    "# NaiveBayes.predict(dataset)\n",
    "# print(NaiveBayes.get_stats_per_class(dataset))"
   ]
  },
  {
   "cell_type": "code",
   "execution_count": null,
   "metadata": {},
   "outputs": [],
   "source": []
  },
  {
   "cell_type": "code",
   "execution_count": null,
   "metadata": {},
   "outputs": [],
   "source": []
  }
 ],
 "metadata": {
  "kernelspec": {
   "display_name": "Python 3",
   "language": "python",
   "name": "python3"
  },
  "language_info": {
   "codemirror_mode": {
    "name": "ipython",
    "version": 3
   },
   "file_extension": ".py",
   "mimetype": "text/x-python",
   "name": "python",
   "nbconvert_exporter": "python",
   "pygments_lexer": "ipython3",
   "version": "3.6.5"
  }
 },
 "nbformat": 4,
 "nbformat_minor": 2
}
