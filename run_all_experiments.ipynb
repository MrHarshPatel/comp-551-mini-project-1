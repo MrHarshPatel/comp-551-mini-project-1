{
 "cells": [
  {
   "cell_type": "code",
   "execution_count": 221,
   "metadata": {},
   "outputs": [],
   "source": [
    "import numpy as np"
   ]
  },
  {
   "cell_type": "code",
   "execution_count": 222,
   "metadata": {},
   "outputs": [],
   "source": [
    "%store -r ionosphere_export\n",
    "%store -r adult_export\n",
    "%store -r thoracic_export\n",
    "%store -r credit_export\n",
    "\n",
    "%store -r ionosphere_headers\n",
    "%store -r adult_headers\n",
    "%store -r thoracic_headers\n",
    "%store -r credit_headers"
   ]
  },
  {
   "cell_type": "code",
   "execution_count": 223,
   "metadata": {},
   "outputs": [],
   "source": [
    "'''\n",
    "Splits to train+validation and test based on train_validation_percent.\n",
    "'''\n",
    "def train_test_split(datasets, train_validation_percent):\n",
    "    train_test_split = {}\n",
    "    train_test_split['train_and_validation'] = {}\n",
    "    train_test_split['test'] = {}\n",
    "    for dataset_name, dataset in datasets.items():\n",
    "        shuffled_dataset = dataset[0]\n",
    "        np.random.shuffle(shuffled_dataset)\n",
    "        \n",
    "        \n",
    "        length = len(shuffled_dataset)\n",
    "        train_length = int(length*train_validation_percent)\n",
    "        \n",
    "        train_test_split['train_and_validation'][dataset_name] = []\n",
    "        \n",
    "        # TRAIN _AND _VALIDATION holds datasets dict with [data, headers] for each\n",
    "        train_test_split['train_and_validation'][dataset_name].append(shuffled_dataset[:train_length])\n",
    "        train_test_split['train_and_validation'][dataset_name].append(dataset[1])\n",
    "        \n",
    "        # SET ASIDE TEST holds the testing data only\n",
    "        train_test_split['test'][dataset_name] = shuffled_dataset[train_length:]\n",
    "\n",
    "        \n",
    "    return train_test_split"
   ]
  },
  {
   "cell_type": "code",
   "execution_count": 224,
   "metadata": {},
   "outputs": [],
   "source": [
    "datasets = {\n",
    "    \"ionosphere\": [ionosphere_export,ionosphere_headers],\n",
    "    \"adult\": [adult_export,adult_headers],\n",
    "    \"thoracic_surgery\": [thoracic_export,thoracic_headers],\n",
    "    \"credit_card\": [credit_export,credit_headers]\n",
    "}"
   ]
  },
  {
   "cell_type": "code",
   "execution_count": 225,
   "metadata": {},
   "outputs": [],
   "source": [
    "'''\n",
    "85% train + validation\n",
    "15% test\n",
    "'''\n",
    "split_data = train_test_split(datasets,0.85)\n",
    "\n",
    "'''\n",
    "Set train_val variable for tests\n",
    "'''\n",
    "train_val = split_data['train_and_validation']"
   ]
  },
  {
   "cell_type": "code",
   "execution_count": 226,
   "metadata": {},
   "outputs": [],
   "source": [
    "'''\n",
    "Runs k-fold test on a datasets dict key is dataset_name and value is [data, headers].\n",
    "'''\n",
    "def run_cross_validations(datasets, k, use_lr=True,use_nb=True,use_nb_log=True,model_args=[]):\n",
    "    results = {}\n",
    "    for name,dataset in datasets.items():\n",
    "        print(name, \"-----\")\n",
    "        print(\"\\tRunning k_fold on: \",name)\n",
    "        \n",
    "        naive_results = None\n",
    "        logistic_results = None\n",
    "        \n",
    "        if(use_lr):\n",
    "            print(\"\\tRunning Logistic Regression\")\n",
    "            print()\n",
    "            logistic_results = k_fold_cross_validation(k,dataset[0], \"LogisticRegression\",[],model_args)\n",
    "            print()\n",
    "            print(\"\\t\\tAccuracy: \",logistic_results)\n",
    "            print()\n",
    "        if(use_nb):\n",
    "            print()\n",
    "            print(\"\\tRunning Naive Bayes Non-Log\")\n",
    "            print()\n",
    "            naive_results = k_fold_cross_validation(k,dataset[0], \"NaiveBayes\",dataset[1],[False])\n",
    "            print()\n",
    "            print(\"\\t\\tAccuracy: \",naive_results)\n",
    "            print()\n",
    "        if(use_nb):\n",
    "            print()\n",
    "            print(\"\\tRunning Naive Bayes Log Laplace\")\n",
    "            print()\n",
    "            naive_results = k_fold_cross_validation(k,dataset[0], \"NaiveBayesLog\",dataset[1],[True])\n",
    "            print()\n",
    "            print(\"\\t\\tAccuracy: \",naive_results)\n",
    "            print()\n",
    "\n",
    "        results[name] = [logistic_results,naive_results]\n",
    "    return results"
   ]
  },
  {
   "cell_type": "code",
   "execution_count": 237,
   "metadata": {},
   "outputs": [],
   "source": [
    "%run validation.ipynb"
   ]
  },
  {
   "cell_type": "code",
   "execution_count": 219,
   "metadata": {},
   "outputs": [
    {
     "name": "stdout",
     "output_type": "stream",
     "text": [
      "Running with epsilon value of  0.1\n",
      "ionosphere -----\n",
      "\tRunning k_fold on:  ionosphere\n",
      "\tRunning Logistic Regression\n",
      "\n",
      "      Type Average Time (s) Maximum Time (s) Minimum Time (s)\n",
      "0      Fit           0.0014           0.0016           0.0013\n",
      "1  Predict           0.0000           0.0000           0.0000\n",
      "2    Total           0.0015           0.0016           0.0013\n",
      "\n",
      "\t\tAccuracy:  0.8116384180790959\n",
      "\n",
      "Running with epsilon value of  0.01\n",
      "ionosphere -----\n",
      "\tRunning k_fold on:  ionosphere\n",
      "\tRunning Logistic Regression\n",
      "\n",
      "      Type Average Time (s) Maximum Time (s) Minimum Time (s)\n",
      "0      Fit           0.0541           0.0625           0.0448\n",
      "1  Predict           0.0000           0.0000           0.0000\n",
      "2    Total           0.0541           0.0626           0.0448\n",
      "\n",
      "\t\tAccuracy:  0.8457062146892655\n",
      "\n",
      "Running with epsilon value of  0.001\n",
      "ionosphere -----\n",
      "\tRunning k_fold on:  ionosphere\n",
      "\tRunning Logistic Regression\n",
      "\n",
      "Terminating early, 10k iterations reached.\n",
      "Terminating early, 10k iterations reached.\n",
      "Terminating early, 10k iterations reached.\n",
      "Terminating early, 10k iterations reached.\n",
      "Terminating early, 10k iterations reached.\n",
      "      Type Average Time (s) Maximum Time (s) Minimum Time (s)\n",
      "0      Fit           0.1813           0.1828           0.1790\n",
      "1  Predict           0.0002           0.0003           0.0002\n",
      "2    Total           0.1816           0.1830           0.1793\n",
      "\n",
      "\t\tAccuracy:  0.8353107344632769\n",
      "\n"
     ]
    }
   ],
   "source": [
    "'''\n",
    "Test #1: Epsilon Tests with value of 0.1,0.01,0.001 @ 0.1 learning rate\n",
    "\n",
    "Type: 5-fold for each.\n",
    "'''\n",
    "%run epsilon_tests.ipynb"
   ]
  },
  {
   "cell_type": "code",
   "execution_count": 220,
   "metadata": {
    "scrolled": true
   },
   "outputs": [
    {
     "name": "stdout",
     "output_type": "stream",
     "text": [
      "Running with termination value of  1000\n",
      "ionosphere -----\n",
      "\tRunning k_fold on:  ionosphere\n",
      "\tRunning Logistic Regression\n",
      "\n",
      "      Type Average Time (s) Maximum Time (s) Minimum Time (s)\n",
      "0      Fit           0.0146           0.0152           0.0144\n",
      "1  Predict           0.0000           0.0000           0.0000\n",
      "2    Total           0.0146           0.0153           0.0144\n",
      "\n",
      "\t\tAccuracy:  0.8490960451977401\n",
      "\n",
      "adult -----\n",
      "\tRunning k_fold on:  adult\n",
      "\tRunning Logistic Regression\n",
      "\n"
     ]
    },
    {
     "ename": "KeyboardInterrupt",
     "evalue": "",
     "output_type": "error",
     "traceback": [
      "\u001b[0;31m---------------------------------------------------------------\u001b[0m",
      "\u001b[0;31mKeyboardInterrupt\u001b[0m             Traceback (most recent call last)",
      "\u001b[0;32m/mnt/z/GitHub/COMP551/comp-551-mini-project-1/termination_tests.ipynb\u001b[0m in \u001b[0;36m<module>\u001b[0;34m()\u001b[0m\n\u001b[0;32m----> 1\u001b[0;31m \u001b[0mtermination_tests\u001b[0m\u001b[0;34m(\u001b[0m\u001b[0;34m[\u001b[0m\u001b[0;36m1000\u001b[0m\u001b[0;34m,\u001b[0m\u001b[0;36m5000\u001b[0m\u001b[0;34m,\u001b[0m\u001b[0;36m10000\u001b[0m\u001b[0;34m]\u001b[0m\u001b[0;34m)\u001b[0m\u001b[0;34m\u001b[0m\u001b[0m\n\u001b[0m",
      "\u001b[0;32m/mnt/z/GitHub/COMP551/comp-551-mini-project-1/termination_tests.ipynb\u001b[0m in \u001b[0;36mtermination_tests\u001b[0;34m(termination_vals)\u001b[0m\n\u001b[1;32m      2\u001b[0m     \u001b[0;32mfor\u001b[0m \u001b[0mtv\u001b[0m \u001b[0;32min\u001b[0m \u001b[0mtermination_vals\u001b[0m\u001b[0;34m:\u001b[0m\u001b[0;34m\u001b[0m\u001b[0m\n\u001b[1;32m      3\u001b[0m         \u001b[0mprint\u001b[0m\u001b[0;34m(\u001b[0m\u001b[0;34m\"Running with termination value of \"\u001b[0m\u001b[0;34m,\u001b[0m \u001b[0mtv\u001b[0m\u001b[0;34m)\u001b[0m\u001b[0;34m\u001b[0m\u001b[0m\n\u001b[0;32m----> 4\u001b[0;31m         \u001b[0mrun_cross_validations\u001b[0m\u001b[0;34m(\u001b[0m\u001b[0mtrain_val\u001b[0m\u001b[0;34m,\u001b[0m\u001b[0;36m5\u001b[0m\u001b[0;34m,\u001b[0m\u001b[0muse_nb\u001b[0m\u001b[0;34m=\u001b[0m\u001b[0;32mFalse\u001b[0m\u001b[0;34m,\u001b[0m\u001b[0mmodel_args\u001b[0m\u001b[0;34m=\u001b[0m\u001b[0;34m[\u001b[0m\u001b[0mtv\u001b[0m\u001b[0;34m,\u001b[0m\u001b[0;36m0.1\u001b[0m\u001b[0;34m,\u001b[0m\u001b[0;32mFalse\u001b[0m\u001b[0;34m,\u001b[0m\u001b[0;36m0.01\u001b[0m\u001b[0;34m,\u001b[0m\u001b[0;32mFalse\u001b[0m\u001b[0;34m]\u001b[0m\u001b[0;34m)\u001b[0m\u001b[0;34m\u001b[0m\u001b[0m\n\u001b[0m",
      "\u001b[0;32m/mnt/z/GitHub/COMP551/comp-551-mini-project-1/termination_tests.ipynb\u001b[0m in \u001b[0;36mrun_cross_validations\u001b[0;34m(datasets, k, use_lr, use_nb, use_nb_log, model_args)\u001b[0m\n\u001b[1;32m     14\u001b[0m             \u001b[0mprint\u001b[0m\u001b[0;34m(\u001b[0m\u001b[0;34m\"\\tRunning Logistic Regression\"\u001b[0m\u001b[0;34m)\u001b[0m\u001b[0;34m\u001b[0m\u001b[0m\n\u001b[1;32m     15\u001b[0m             \u001b[0mprint\u001b[0m\u001b[0;34m(\u001b[0m\u001b[0;34m)\u001b[0m\u001b[0;34m\u001b[0m\u001b[0m\n\u001b[0;32m---> 16\u001b[0;31m             \u001b[0mlogistic_results\u001b[0m \u001b[0;34m=\u001b[0m \u001b[0mk_fold_cross_validation\u001b[0m\u001b[0;34m(\u001b[0m\u001b[0mk\u001b[0m\u001b[0;34m,\u001b[0m\u001b[0mdataset\u001b[0m\u001b[0;34m[\u001b[0m\u001b[0;36m0\u001b[0m\u001b[0;34m]\u001b[0m\u001b[0;34m,\u001b[0m \u001b[0;34m\"LogisticRegression\"\u001b[0m\u001b[0;34m,\u001b[0m\u001b[0;34m[\u001b[0m\u001b[0;34m]\u001b[0m\u001b[0;34m,\u001b[0m\u001b[0mmodel_args\u001b[0m\u001b[0;34m)\u001b[0m\u001b[0;34m\u001b[0m\u001b[0m\n\u001b[0m\u001b[1;32m     17\u001b[0m             \u001b[0mprint\u001b[0m\u001b[0;34m(\u001b[0m\u001b[0;34m)\u001b[0m\u001b[0;34m\u001b[0m\u001b[0m\n\u001b[1;32m     18\u001b[0m             \u001b[0mprint\u001b[0m\u001b[0;34m(\u001b[0m\u001b[0;34m\"\\t\\tAccuracy: \"\u001b[0m\u001b[0;34m,\u001b[0m\u001b[0mlogistic_results\u001b[0m\u001b[0;34m)\u001b[0m\u001b[0;34m\u001b[0m\u001b[0m\n",
      "\u001b[0;32m/mnt/z/GitHub/COMP551/comp-551-mini-project-1/termination_tests.ipynb\u001b[0m in \u001b[0;36mk_fold_cross_validation\u001b[0;34m(k, data, model_name, data_headers, model_args)\u001b[0m\n\u001b[1;32m     34\u001b[0m             \u001b[0mmodel\u001b[0m\u001b[0;34m.\u001b[0m\u001b[0mfit\u001b[0m\u001b[0;34m(\u001b[0m\u001b[0mtrain_X\u001b[0m\u001b[0;34m,\u001b[0m \u001b[0mtrain_Y\u001b[0m\u001b[0;34m,\u001b[0m \u001b[0;32mTrue\u001b[0m\u001b[0;34m)\u001b[0m\u001b[0;34m\u001b[0m\u001b[0m\n\u001b[1;32m     35\u001b[0m \u001b[0;34m\u001b[0m\u001b[0m\n\u001b[0;32m---> 36\u001b[0;31m         \u001b[0mmodel\u001b[0m\u001b[0;34m.\u001b[0m\u001b[0mfit\u001b[0m\u001b[0;34m(\u001b[0m\u001b[0mtrain_X\u001b[0m\u001b[0;34m,\u001b[0m \u001b[0mtrain_Y\u001b[0m\u001b[0;34m)\u001b[0m\u001b[0;34m\u001b[0m\u001b[0m\n\u001b[0m\u001b[1;32m     37\u001b[0m         \u001b[0mall_fit_times\u001b[0m\u001b[0;34m.\u001b[0m\u001b[0mappend\u001b[0m\u001b[0;34m(\u001b[0m\u001b[0mtime\u001b[0m\u001b[0;34m.\u001b[0m\u001b[0mtime\u001b[0m\u001b[0;34m(\u001b[0m\u001b[0;34m)\u001b[0m \u001b[0;34m-\u001b[0m \u001b[0mstart_fit_time\u001b[0m\u001b[0;34m)\u001b[0m\u001b[0;34m\u001b[0m\u001b[0m\n\u001b[1;32m     38\u001b[0m \u001b[0;34m\u001b[0m\u001b[0m\n",
      "\u001b[0;32m/mnt/z/GitHub/COMP551/comp-551-mini-project-1/termination_tests.ipynb\u001b[0m in \u001b[0;36mfit\u001b[0;34m(self, X, y)\u001b[0m\n\u001b[1;32m     43\u001b[0m             \u001b[0;32mfor\u001b[0m \u001b[0mi\u001b[0m \u001b[0;32min\u001b[0m \u001b[0mrange\u001b[0m\u001b[0;34m(\u001b[0m\u001b[0mself\u001b[0m\u001b[0;34m.\u001b[0m\u001b[0mnum_iter\u001b[0m\u001b[0;34m)\u001b[0m\u001b[0;34m:\u001b[0m\u001b[0;34m\u001b[0m\u001b[0m\n\u001b[1;32m     44\u001b[0m                 \u001b[0myh\u001b[0m \u001b[0;34m=\u001b[0m \u001b[0mself\u001b[0m\u001b[0;34m.\u001b[0m\u001b[0msigmoid\u001b[0m\u001b[0;34m(\u001b[0m\u001b[0mnp\u001b[0m\u001b[0;34m.\u001b[0m\u001b[0mdot\u001b[0m\u001b[0;34m(\u001b[0m\u001b[0mX\u001b[0m\u001b[0;34m,\u001b[0m \u001b[0mself\u001b[0m\u001b[0;34m.\u001b[0m\u001b[0mw\u001b[0m\u001b[0;34m)\u001b[0m\u001b[0;34m)\u001b[0m\u001b[0;34m\u001b[0m\u001b[0m\n\u001b[0;32m---> 45\u001b[0;31m                 \u001b[0mg\u001b[0m \u001b[0;34m=\u001b[0m \u001b[0mnp\u001b[0m\u001b[0;34m.\u001b[0m\u001b[0mdot\u001b[0m\u001b[0;34m(\u001b[0m\u001b[0mX\u001b[0m\u001b[0;34m.\u001b[0m\u001b[0mT\u001b[0m\u001b[0;34m,\u001b[0m \u001b[0;34m(\u001b[0m\u001b[0myh\u001b[0m \u001b[0;34m-\u001b[0m \u001b[0my\u001b[0m\u001b[0;34m)\u001b[0m\u001b[0;34m)\u001b[0m \u001b[0;34m/\u001b[0m \u001b[0mN\u001b[0m\u001b[0;34m\u001b[0m\u001b[0m\n\u001b[0m\u001b[1;32m     46\u001b[0m                 \u001b[0mself\u001b[0m\u001b[0;34m.\u001b[0m\u001b[0mw\u001b[0m \u001b[0;34m=\u001b[0m \u001b[0mself\u001b[0m\u001b[0;34m.\u001b[0m\u001b[0mw\u001b[0m \u001b[0;34m-\u001b[0m \u001b[0mself\u001b[0m\u001b[0;34m.\u001b[0m\u001b[0mlr\u001b[0m\u001b[0;34m*\u001b[0m\u001b[0mg\u001b[0m\u001b[0;34m\u001b[0m\u001b[0m\n\u001b[1;32m     47\u001b[0m \u001b[0;34m\u001b[0m\u001b[0m\n",
      "\u001b[0;31mKeyboardInterrupt\u001b[0m: "
     ]
    }
   ],
   "source": [
    "'''\n",
    "Test #2: Different set termination values 1000,5000,10000 @ 0.1 learning rate\n",
    "\n",
    "Type: 5-fold for each.\n",
    "'''\n",
    "%run termination_tests.ipynb"
   ]
  },
  {
   "cell_type": "code",
   "execution_count": 159,
   "metadata": {},
   "outputs": [
    {
     "name": "stdout",
     "output_type": "stream",
     "text": [
      "Running with learning rate of  0.01\n",
      "ionosphere -----\n",
      "\tRunning k_fold on:  ionosphere\n",
      "\tRunning Logistic Regression\n",
      "\n",
      "      Type Average Time (s) Maximum Time (s) Minimum Time (s)\n",
      "0      Fit           0.1489           0.1663           0.1435\n",
      "1  Predict           0.0000           0.0000           0.0000\n",
      "2    Total           0.1489           0.1664           0.1436\n",
      "\n",
      "\t\tAccuracy:  0.8689265536723163\n",
      "\n",
      "adult -----\n",
      "\tRunning k_fold on:  adult\n",
      "\tRunning Logistic Regression\n",
      "\n"
     ]
    },
    {
     "ename": "KeyboardInterrupt",
     "evalue": "",
     "output_type": "error",
     "traceback": [
      "\u001b[0;31m---------------------------------------------------------------\u001b[0m",
      "\u001b[0;31mKeyboardInterrupt\u001b[0m             Traceback (most recent call last)",
      "\u001b[0;32m/mnt/z/GitHub/COMP551/comp-551-mini-project-1/learning_rate_tests.ipynb\u001b[0m in \u001b[0;36m<module>\u001b[0;34m()\u001b[0m\n\u001b[1;32m      1\u001b[0m \u001b[0;31m# Learning Rates using termination 10,000 at 0.01,0.05,0.1,0.2 and 0.3\u001b[0m\u001b[0;34m\u001b[0m\u001b[0;34m\u001b[0m\u001b[0m\n\u001b[0;32m----> 2\u001b[0;31m \u001b[0mlearning_rates_test\u001b[0m\u001b[0;34m(\u001b[0m\u001b[0;34m[\u001b[0m\u001b[0;36m0.01\u001b[0m\u001b[0;34m,\u001b[0m\u001b[0;36m0.05\u001b[0m\u001b[0;34m,\u001b[0m\u001b[0;36m0.1\u001b[0m\u001b[0;34m,\u001b[0m\u001b[0;36m0.2\u001b[0m\u001b[0;34m,\u001b[0m\u001b[0;36m0.3\u001b[0m\u001b[0;34m]\u001b[0m\u001b[0;34m)\u001b[0m\u001b[0;34m\u001b[0m\u001b[0m\n\u001b[0m",
      "\u001b[0;32m/mnt/z/GitHub/COMP551/comp-551-mini-project-1/learning_rate_tests.ipynb\u001b[0m in \u001b[0;36mlearning_rates_test\u001b[0;34m(lrs)\u001b[0m\n\u001b[1;32m      2\u001b[0m     \u001b[0;32mfor\u001b[0m \u001b[0mlr\u001b[0m \u001b[0;32min\u001b[0m \u001b[0mlrs\u001b[0m\u001b[0;34m:\u001b[0m\u001b[0;34m\u001b[0m\u001b[0m\n\u001b[1;32m      3\u001b[0m         \u001b[0mprint\u001b[0m\u001b[0;34m(\u001b[0m\u001b[0;34m\"Running with learning rate of \"\u001b[0m\u001b[0;34m,\u001b[0m \u001b[0mlr\u001b[0m\u001b[0;34m)\u001b[0m\u001b[0;34m\u001b[0m\u001b[0m\n\u001b[0;32m----> 4\u001b[0;31m         \u001b[0mrun_cross_validations\u001b[0m\u001b[0;34m(\u001b[0m\u001b[0mtrain_val\u001b[0m\u001b[0;34m,\u001b[0m\u001b[0;36m5\u001b[0m\u001b[0;34m,\u001b[0m\u001b[0muse_nb\u001b[0m\u001b[0;34m=\u001b[0m\u001b[0;32mFalse\u001b[0m\u001b[0;34m,\u001b[0m\u001b[0mmodel_args\u001b[0m\u001b[0;34m=\u001b[0m\u001b[0;34m[\u001b[0m\u001b[0;36m10000\u001b[0m\u001b[0;34m,\u001b[0m\u001b[0mlr\u001b[0m\u001b[0;34m,\u001b[0m\u001b[0;32mFalse\u001b[0m\u001b[0;34m,\u001b[0m\u001b[0;36m1e-2\u001b[0m\u001b[0;34m,\u001b[0m\u001b[0;32mFalse\u001b[0m\u001b[0;34m]\u001b[0m\u001b[0;34m)\u001b[0m\u001b[0;34m\u001b[0m\u001b[0m\n\u001b[0m",
      "\u001b[0;32m/mnt/z/GitHub/COMP551/comp-551-mini-project-1/learning_rate_tests.ipynb\u001b[0m in \u001b[0;36mrun_cross_validations\u001b[0;34m(datasets, k, use_lr, use_nb, use_nb_log, model_args)\u001b[0m\n\u001b[1;32m     14\u001b[0m             \u001b[0mprint\u001b[0m\u001b[0;34m(\u001b[0m\u001b[0;34m\"\\tRunning Logistic Regression\"\u001b[0m\u001b[0;34m)\u001b[0m\u001b[0;34m\u001b[0m\u001b[0m\n\u001b[1;32m     15\u001b[0m             \u001b[0mprint\u001b[0m\u001b[0;34m(\u001b[0m\u001b[0;34m)\u001b[0m\u001b[0;34m\u001b[0m\u001b[0m\n\u001b[0;32m---> 16\u001b[0;31m             \u001b[0mlogistic_results\u001b[0m \u001b[0;34m=\u001b[0m \u001b[0mk_fold_cross_validation\u001b[0m\u001b[0;34m(\u001b[0m\u001b[0mk\u001b[0m\u001b[0;34m,\u001b[0m\u001b[0mdataset\u001b[0m\u001b[0;34m[\u001b[0m\u001b[0;36m0\u001b[0m\u001b[0;34m]\u001b[0m\u001b[0;34m,\u001b[0m \u001b[0;34m\"LogisticRegression\"\u001b[0m\u001b[0;34m,\u001b[0m\u001b[0;34m[\u001b[0m\u001b[0;34m]\u001b[0m\u001b[0;34m,\u001b[0m\u001b[0mmodel_args\u001b[0m\u001b[0;34m)\u001b[0m\u001b[0;34m\u001b[0m\u001b[0m\n\u001b[0m\u001b[1;32m     17\u001b[0m             \u001b[0mprint\u001b[0m\u001b[0;34m(\u001b[0m\u001b[0;34m)\u001b[0m\u001b[0;34m\u001b[0m\u001b[0m\n\u001b[1;32m     18\u001b[0m             \u001b[0mprint\u001b[0m\u001b[0;34m(\u001b[0m\u001b[0;34m\"\\t\\tAccuracy: \"\u001b[0m\u001b[0;34m,\u001b[0m\u001b[0mlogistic_results\u001b[0m\u001b[0;34m)\u001b[0m\u001b[0;34m\u001b[0m\u001b[0m\n",
      "\u001b[0;32m/mnt/z/GitHub/COMP551/comp-551-mini-project-1/learning_rate_tests.ipynb\u001b[0m in \u001b[0;36mk_fold_cross_validation\u001b[0;34m(k, data, model_name, data_headers, model_args)\u001b[0m\n\u001b[1;32m     34\u001b[0m             \u001b[0mmodel\u001b[0m\u001b[0;34m.\u001b[0m\u001b[0mfit\u001b[0m\u001b[0;34m(\u001b[0m\u001b[0mtrain_X\u001b[0m\u001b[0;34m,\u001b[0m \u001b[0mtrain_Y\u001b[0m\u001b[0;34m,\u001b[0m \u001b[0;32mTrue\u001b[0m\u001b[0;34m)\u001b[0m\u001b[0;34m\u001b[0m\u001b[0m\n\u001b[1;32m     35\u001b[0m \u001b[0;34m\u001b[0m\u001b[0m\n\u001b[0;32m---> 36\u001b[0;31m         \u001b[0mmodel\u001b[0m\u001b[0;34m.\u001b[0m\u001b[0mfit\u001b[0m\u001b[0;34m(\u001b[0m\u001b[0mtrain_X\u001b[0m\u001b[0;34m,\u001b[0m \u001b[0mtrain_Y\u001b[0m\u001b[0;34m)\u001b[0m\u001b[0;34m\u001b[0m\u001b[0m\n\u001b[0m\u001b[1;32m     37\u001b[0m         \u001b[0mall_fit_times\u001b[0m\u001b[0;34m.\u001b[0m\u001b[0mappend\u001b[0m\u001b[0;34m(\u001b[0m\u001b[0mtime\u001b[0m\u001b[0;34m.\u001b[0m\u001b[0mtime\u001b[0m\u001b[0;34m(\u001b[0m\u001b[0;34m)\u001b[0m \u001b[0;34m-\u001b[0m \u001b[0mstart_fit_time\u001b[0m\u001b[0;34m)\u001b[0m\u001b[0;34m\u001b[0m\u001b[0m\n\u001b[1;32m     38\u001b[0m \u001b[0;34m\u001b[0m\u001b[0m\n",
      "\u001b[0;32m/mnt/z/GitHub/COMP551/comp-551-mini-project-1/learning_rate_tests.ipynb\u001b[0m in \u001b[0;36mfit\u001b[0;34m(self, X, y)\u001b[0m\n\u001b[1;32m     36\u001b[0m         \u001b[0;32melse\u001b[0m\u001b[0;34m:\u001b[0m\u001b[0;34m\u001b[0m\u001b[0m\n\u001b[1;32m     37\u001b[0m             \u001b[0;32mfor\u001b[0m \u001b[0mi\u001b[0m \u001b[0;32min\u001b[0m \u001b[0mrange\u001b[0m\u001b[0;34m(\u001b[0m\u001b[0mself\u001b[0m\u001b[0;34m.\u001b[0m\u001b[0mnum_iter\u001b[0m\u001b[0;34m)\u001b[0m\u001b[0;34m:\u001b[0m\u001b[0;34m\u001b[0m\u001b[0m\n\u001b[0;32m---> 38\u001b[0;31m                 \u001b[0myh\u001b[0m \u001b[0;34m=\u001b[0m \u001b[0mself\u001b[0m\u001b[0;34m.\u001b[0m\u001b[0msigmoid\u001b[0m\u001b[0;34m(\u001b[0m\u001b[0mnp\u001b[0m\u001b[0;34m.\u001b[0m\u001b[0mdot\u001b[0m\u001b[0;34m(\u001b[0m\u001b[0mX\u001b[0m\u001b[0;34m,\u001b[0m \u001b[0mself\u001b[0m\u001b[0;34m.\u001b[0m\u001b[0mw\u001b[0m\u001b[0;34m)\u001b[0m\u001b[0;34m)\u001b[0m\u001b[0;34m\u001b[0m\u001b[0m\n\u001b[0m\u001b[1;32m     39\u001b[0m                 \u001b[0mg\u001b[0m \u001b[0;34m=\u001b[0m \u001b[0mnp\u001b[0m\u001b[0;34m.\u001b[0m\u001b[0mdot\u001b[0m\u001b[0;34m(\u001b[0m\u001b[0mX\u001b[0m\u001b[0;34m.\u001b[0m\u001b[0mT\u001b[0m\u001b[0;34m,\u001b[0m \u001b[0;34m(\u001b[0m\u001b[0myh\u001b[0m \u001b[0;34m-\u001b[0m \u001b[0my\u001b[0m\u001b[0;34m)\u001b[0m\u001b[0;34m)\u001b[0m \u001b[0;34m/\u001b[0m \u001b[0mN\u001b[0m\u001b[0;34m\u001b[0m\u001b[0m\n\u001b[1;32m     40\u001b[0m                 \u001b[0mself\u001b[0m\u001b[0;34m.\u001b[0m\u001b[0mw\u001b[0m \u001b[0;34m=\u001b[0m \u001b[0mself\u001b[0m\u001b[0;34m.\u001b[0m\u001b[0mw\u001b[0m \u001b[0;34m-\u001b[0m \u001b[0mself\u001b[0m\u001b[0;34m.\u001b[0m\u001b[0mlr\u001b[0m\u001b[0;34m*\u001b[0m\u001b[0mg\u001b[0m\u001b[0;34m\u001b[0m\u001b[0m\n",
      "\u001b[0;31mKeyboardInterrupt\u001b[0m: "
     ]
    }
   ],
   "source": [
    "'''\n",
    "Test #3: Different learning rates set termination value of 10,000 at 0.01, 0.05, 0.1, 0.2 and 0.3\n",
    "\n",
    "Type: 5-fold for each.\n",
    "'''\n",
    "%run learning_rate_tests.ipynb"
   ]
  },
  {
   "cell_type": "code",
   "execution_count": 228,
   "metadata": {},
   "outputs": [],
   "source": [
    "'''\n",
    "Note: Found from running find_optimal_features to get highest 5 accuracies for each dataset.\n",
    "'''\n",
    "best_features = {\n",
    "    'ionosphere': ['a6_g', 'a4_g', 'a2_g', 'a27_g', 'a8_g'],\n",
    "    'adult': ['capitalgain_g','educationnum_g','capitalloss_g','education','relationship'],\n",
    "    'thoracic_surgery': ['asthma','mi_up_to_6_months','pain','type_2_diabetes','dyspnoea'],\n",
    "    'credit_card': ['PAY_0', 'PAY_2', 'PAY_5', 'PAY_3', 'PAY_4']\n",
    "}"
   ]
  },
  {
   "cell_type": "code",
   "execution_count": 229,
   "metadata": {},
   "outputs": [],
   "source": [
    "'''\n",
    "Returns dictionary with key as a feature and the index of all the columns\n",
    "'''\n",
    "def separate_by_feature(dataset_headers):\n",
    "    dataset_headers = dataset_headers[:-1]\n",
    "    feature_map = {}\n",
    "    \n",
    "    for i, feature in enumerate(dataset_headers):\n",
    "        sep = '_b'\n",
    "        feature_name = feature.split(sep, 1)[0]\n",
    "        if feature_name not in feature_map:\n",
    "            feature_map[feature_name] = [i]\n",
    "        else:\n",
    "            feature_map[feature_name].append(i)\n",
    "    return feature_map"
   ]
  },
  {
   "cell_type": "code",
   "execution_count": 230,
   "metadata": {},
   "outputs": [
    {
     "name": "stdout",
     "output_type": "stream",
     "text": [
      "Running LR on the following features:  ['a6_g', 'a4_g', 'a2_g', 'a27_g', 'a8_g']\n",
      "Running LR on the following features:  ['capitalgain_g', 'educationnum_g', 'capitalloss_g', 'education', 'relationship']\n",
      "Running LR on the following features:  ['asthma', 'mi_up_to_6_months', 'pain', 'type_2_diabetes', 'dyspnoea']\n",
      "Running LR on the following features:  ['PAY_0', 'PAY_2', 'PAY_5', 'PAY_3', 'PAY_4']\n"
     ]
    }
   ],
   "source": [
    "'''\n",
    "Test #4: Run logistic tests on best features to see if outliers are causing issues.\n",
    "\n",
    "Type: K-fold tests like before on reduced dataset\n",
    "'''\n",
    "# Save the old train_val for future tests.\n",
    "train_val_full = train_val\n",
    "\n",
    "# Save new train_val with only the features needed.\n",
    "train_val_new = {}\n",
    "\n",
    "# Set new train val to be only the good features.\n",
    "for dataset_name, features in best_features.items():\n",
    "\n",
    "    # Get all the appropriate columns for each feature. Passed in headers for dataset.\n",
    "    feature_map = separate_by_feature(train_val[dataset_name][1])\n",
    "        \n",
    "    columns_to_get = []\n",
    "    for feature in features:\n",
    "        columns_to_get = columns_to_get + feature_map[feature]\n",
    "\n",
    "    optimal_headers = train_val[dataset_name][1][columns_to_get]\n",
    "\n",
    "#     results[dataset]['features'] = optimal_headers\n",
    "    print(\"Running LR on the following features: \",features)\n",
    "    \n",
    "    columns_to_get.append(-1)\n",
    "\n",
    "    dataset_to_run_on = train_val[dataset_name][0][:,columns_to_get]\n",
    "    train_val_new[dataset_name] = []\n",
    "    train_val_new[dataset_name].append(dataset_to_run_on)\n",
    "    train_val_new[dataset_name].append(optimal_headers)\n",
    "    \n",
    "# Set to train_val to train_val_new\n",
    "train_val = train_val_new"
   ]
  },
  {
   "cell_type": "code",
   "execution_count": 239,
   "metadata": {},
   "outputs": [
    {
     "name": "stdout",
     "output_type": "stream",
     "text": [
      "Running with epsilon value of  0.1\n",
      "ionosphere -----\n",
      "\tRunning k_fold on:  ionosphere\n",
      "\tRunning Logistic Regression\n",
      "\n",
      "      Type Average Time (s) Maximum Time (s) Minimum Time (s)\n",
      "0      Fit           0.0007           0.0007           0.0006\n",
      "1  Predict           0.0000           0.0000           0.0000\n",
      "2    Total           0.0007           0.0007           0.0006\n",
      "\n",
      "\t\tAccuracy:  0.7315819209039549\n",
      "\n",
      "adult -----\n",
      "\tRunning k_fold on:  adult\n",
      "\tRunning Logistic Regression\n",
      "\n",
      "Terminating early, 10k iterations reached.\n",
      "Terminating early, 10k iterations reached.\n",
      "Terminating early, 10k iterations reached.\n",
      "Terminating early, 10k iterations reached.\n",
      "Terminating early, 10k iterations reached.\n",
      "      Type Average Time (s) Maximum Time (s) Minimum Time (s)\n",
      "0      Fit          14.4475          15.7864          12.8282\n",
      "1  Predict           0.0008           0.0009           0.0007\n",
      "2    Total          14.4482          15.7871          12.8289\n",
      "\n",
      "\t\tAccuracy:  0.8021493508981135\n",
      "\n",
      "thoracic_surgery -----\n",
      "\tRunning k_fold on:  thoracic_surgery\n",
      "\tRunning Logistic Regression\n",
      "\n",
      "      Type Average Time (s) Maximum Time (s) Minimum Time (s)\n",
      "0      Fit           0.0015           0.0018           0.0011\n",
      "1  Predict           0.0000           0.0000           0.0000\n",
      "2    Total           0.0016           0.0018           0.0012\n",
      "\n",
      "\t\tAccuracy:  0.8570569620253166\n",
      "\n",
      "credit_card -----\n",
      "\tRunning k_fold on:  credit_card\n",
      "\tRunning Logistic Regression\n",
      "\n",
      "      Type Average Time (s) Maximum Time (s) Minimum Time (s)\n",
      "0      Fit           0.0998           0.1123           0.0886\n",
      "1  Predict           0.0007           0.0009           0.0005\n",
      "2    Total           0.1005           0.1128           0.0893\n",
      "\n",
      "\t\tAccuracy:  0.7775294117647059\n",
      "\n",
      "Running with epsilon value of  0.01\n",
      "ionosphere -----\n",
      "\tRunning k_fold on:  ionosphere\n",
      "\tRunning Logistic Regression\n",
      "\n",
      "      Type Average Time (s) Maximum Time (s) Minimum Time (s)\n",
      "0      Fit           0.0199           0.0267           0.0160\n",
      "1  Predict           0.0000           0.0000           0.0000\n",
      "2    Total           0.0200           0.0267           0.0161\n",
      "\n",
      "\t\tAccuracy:  0.8259887005649718\n",
      "\n",
      "adult -----\n",
      "\tRunning k_fold on:  adult\n",
      "\tRunning Logistic Regression\n",
      "\n",
      "Terminating early, 10k iterations reached.\n",
      "Terminating early, 10k iterations reached.\n",
      "Terminating early, 10k iterations reached.\n",
      "Terminating early, 10k iterations reached.\n",
      "Terminating early, 10k iterations reached.\n",
      "      Type Average Time (s) Maximum Time (s) Minimum Time (s)\n",
      "0      Fit          14.9483          17.3542          13.3790\n",
      "1  Predict           0.0007           0.0007           0.0006\n",
      "2    Total          14.9489          17.3548          13.3797\n",
      "\n",
      "\t\tAccuracy:  0.7978553971751434\n",
      "\n",
      "thoracic_surgery -----\n",
      "\tRunning k_fold on:  thoracic_surgery\n",
      "\tRunning Logistic Regression\n",
      "\n",
      "      Type Average Time (s) Maximum Time (s) Minimum Time (s)\n",
      "0      Fit           0.0102           0.0120           0.0072\n",
      "1  Predict           0.0000           0.0000           0.0000\n",
      "2    Total           0.0102           0.0120           0.0072\n",
      "\n",
      "\t\tAccuracy:  0.8571518987341772\n",
      "\n",
      "credit_card -----\n",
      "\tRunning k_fold on:  credit_card\n",
      "\tRunning Logistic Regression\n",
      "\n",
      "      Type Average Time (s) Maximum Time (s) Minimum Time (s)\n",
      "0      Fit           1.5299           1.6461           1.4143\n",
      "1  Predict           0.0006           0.0008           0.0005\n",
      "2    Total           1.5306           1.6469           1.4149\n",
      "\n",
      "\t\tAccuracy:  0.8105490196078431\n",
      "\n",
      "Running with epsilon value of  0.001\n",
      "ionosphere -----\n",
      "\tRunning k_fold on:  ionosphere\n",
      "\tRunning Logistic Regression\n",
      "\n",
      "      Type Average Time (s) Maximum Time (s) Minimum Time (s)\n",
      "0      Fit           0.0603           0.0665           0.0521\n",
      "1  Predict           0.0000           0.0000           0.0000\n",
      "2    Total           0.0604           0.0666           0.0521\n",
      "\n",
      "\t\tAccuracy:  0.8151412429378532\n",
      "\n",
      "adult -----\n",
      "\tRunning k_fold on:  adult\n",
      "\tRunning Logistic Regression\n",
      "\n",
      "Terminating early, 10k iterations reached.\n",
      "Terminating early, 10k iterations reached.\n",
      "Terminating early, 10k iterations reached.\n",
      "Terminating early, 10k iterations reached.\n",
      "Terminating early, 10k iterations reached.\n",
      "      Type Average Time (s) Maximum Time (s) Minimum Time (s)\n",
      "0      Fit          15.0969          16.8620          13.7673\n",
      "1  Predict           0.0008           0.0010           0.0007\n",
      "2    Total          15.0978          16.8630          13.7681\n",
      "\n",
      "\t\tAccuracy:  0.8025655399936674\n",
      "\n",
      "thoracic_surgery -----\n",
      "\tRunning k_fold on:  thoracic_surgery\n",
      "\tRunning Logistic Regression\n",
      "\n",
      "      Type Average Time (s) Maximum Time (s) Minimum Time (s)\n",
      "0      Fit           0.0597           0.0658           0.0543\n",
      "1  Predict           0.0000           0.0000           0.0000\n",
      "2    Total           0.0597           0.0659           0.0543\n",
      "\n",
      "\t\tAccuracy:  0.8546835443037974\n",
      "\n",
      "credit_card -----\n",
      "\tRunning k_fold on:  credit_card\n",
      "\tRunning Logistic Regression\n",
      "\n",
      "      Type Average Time (s) Maximum Time (s) Minimum Time (s)\n",
      "0      Fit          16.4352          19.1605          15.2574\n",
      "1  Predict           0.0006           0.0007           0.0005\n",
      "2    Total          16.4358          19.1610          15.2579\n",
      "\n",
      "\t\tAccuracy:  0.820156862745098\n",
      "\n"
     ]
    }
   ],
   "source": [
    "'''\n",
    "Test #4 CONTINUED: Run logistic tests on best features to see if outliers are causing issues.\n",
    "\n",
    "Type: K-fold tests like before on reduced dataset\n",
    "'''\n",
    "use_epsilons_test([1e-1,1e-2,1e-3],train_val)"
   ]
  },
  {
   "cell_type": "code",
   "execution_count": 232,
   "metadata": {},
   "outputs": [
    {
     "name": "stdout",
     "output_type": "stream",
     "text": [
      "Running with termination value of  1000\n",
      "ionosphere -----\n",
      "\tRunning k_fold on:  ionosphere\n",
      "\tRunning Logistic Regression\n",
      "\n",
      "      Type Average Time (s) Maximum Time (s) Minimum Time (s)\n",
      "0      Fit           0.0127           0.0131           0.0124\n",
      "1  Predict           0.0000           0.0000           0.0000\n",
      "2    Total           0.0127           0.0131           0.0124\n",
      "\n",
      "\t\tAccuracy:  0.8154237288135594\n",
      "\n",
      "adult -----\n",
      "\tRunning k_fold on:  adult\n",
      "\tRunning Logistic Regression\n",
      "\n",
      "      Type Average Time (s) Maximum Time (s) Minimum Time (s)\n",
      "0      Fit           1.3356           1.4686           1.2247\n",
      "1  Predict           0.0005           0.0006           0.0005\n",
      "2    Total           1.3362           1.4691           1.2252\n",
      "\n",
      "\t\tAccuracy:  0.7956450049389437\n",
      "\n",
      "thoracic_surgery -----\n",
      "\tRunning k_fold on:  thoracic_surgery\n",
      "\tRunning Logistic Regression\n",
      "\n",
      "      Type Average Time (s) Maximum Time (s) Minimum Time (s)\n",
      "0      Fit           0.0158           0.0203           0.0140\n",
      "1  Predict           0.0000           0.0000           0.0000\n",
      "2    Total           0.0158           0.0204           0.0141\n",
      "\n",
      "\t\tAccuracy:  0.8571835443037974\n",
      "\n",
      "credit_card -----\n",
      "\tRunning k_fold on:  credit_card\n",
      "\tRunning Logistic Regression\n",
      "\n",
      "      Type Average Time (s) Maximum Time (s) Minimum Time (s)\n",
      "0      Fit           2.7928           3.4254           2.5358\n",
      "1  Predict           0.0006           0.0006           0.0005\n",
      "2    Total           2.7934           3.4260           2.5364\n",
      "\n",
      "\t\tAccuracy:  0.8123529411764707\n",
      "\n",
      "Running with termination value of  5000\n",
      "ionosphere -----\n",
      "\tRunning k_fold on:  ionosphere\n",
      "\tRunning Logistic Regression\n",
      "\n",
      "      Type Average Time (s) Maximum Time (s) Minimum Time (s)\n",
      "0      Fit           0.0717           0.0793           0.0636\n",
      "1  Predict           0.0000           0.0000           0.0000\n",
      "2    Total           0.0718           0.0794           0.0637\n",
      "\n",
      "\t\tAccuracy:  0.8290395480225989\n",
      "\n",
      "adult -----\n",
      "\tRunning k_fold on:  adult\n",
      "\tRunning Logistic Regression\n",
      "\n",
      "      Type Average Time (s) Maximum Time (s) Minimum Time (s)\n",
      "0      Fit           6.9020           7.8143           6.2891\n",
      "1  Predict           0.0006           0.0007           0.0005\n",
      "2    Total           6.9026           7.8150           6.2897\n",
      "\n",
      "\t\tAccuracy:  0.8065195919107181\n",
      "\n",
      "thoracic_surgery -----\n",
      "\tRunning k_fold on:  thoracic_surgery\n",
      "\tRunning Logistic Regression\n",
      "\n",
      "      Type Average Time (s) Maximum Time (s) Minimum Time (s)\n",
      "0      Fit           0.0745           0.0823           0.0679\n",
      "1  Predict           0.0000           0.0000           0.0000\n",
      "2    Total           0.0745           0.0824           0.0679\n",
      "\n",
      "\t\tAccuracy:  0.8471518987341773\n",
      "\n",
      "credit_card -----\n",
      "\tRunning k_fold on:  credit_card\n",
      "\tRunning Logistic Regression\n",
      "\n",
      "      Type Average Time (s) Maximum Time (s) Minimum Time (s)\n",
      "0      Fit          13.8752          14.4457          13.1331\n",
      "1  Predict           0.0007           0.0009           0.0006\n",
      "2    Total          13.8759          14.4467          13.1338\n",
      "\n",
      "\t\tAccuracy:  0.819921568627451\n",
      "\n",
      "Running with termination value of  10000\n",
      "ionosphere -----\n",
      "\tRunning k_fold on:  ionosphere\n",
      "\tRunning Logistic Regression\n",
      "\n",
      "      Type Average Time (s) Maximum Time (s) Minimum Time (s)\n",
      "0      Fit           0.1358           0.1527           0.1272\n",
      "1  Predict           0.0000           0.0000           0.0000\n",
      "2    Total           0.1359           0.1528           0.1272\n",
      "\n",
      "\t\tAccuracy:  0.8154237288135594\n",
      "\n",
      "adult -----\n",
      "\tRunning k_fold on:  adult\n",
      "\tRunning Logistic Regression\n",
      "\n",
      "      Type Average Time (s) Maximum Time (s) Minimum Time (s)\n",
      "0      Fit          14.2843          15.7072          12.9575\n",
      "1  Predict           0.0006           0.0006           0.0005\n",
      "2    Total          14.2849          15.7078          12.9581\n",
      "\n",
      "\t\tAccuracy:  0.8018371320852387\n",
      "\n",
      "thoracic_surgery -----\n",
      "\tRunning k_fold on:  thoracic_surgery\n",
      "\tRunning Logistic Regression\n",
      "\n",
      "      Type Average Time (s) Maximum Time (s) Minimum Time (s)\n",
      "0      Fit           0.1474           0.1646           0.1354\n",
      "1  Predict           0.0000           0.0000           0.0000\n",
      "2    Total           0.1475           0.1647           0.1355\n",
      "\n",
      "\t\tAccuracy:  0.8545886075949367\n",
      "\n",
      "credit_card -----\n",
      "\tRunning k_fold on:  credit_card\n",
      "\tRunning Logistic Regression\n",
      "\n",
      "      Type Average Time (s) Maximum Time (s) Minimum Time (s)\n",
      "0      Fit          27.0990          27.7534          26.5081\n",
      "1  Predict           0.0006           0.0007           0.0005\n",
      "2    Total          27.0996          27.7541          26.5087\n",
      "\n",
      "\t\tAccuracy:  0.8198823529411765\n",
      "\n"
     ]
    }
   ],
   "source": [
    "'''\n",
    "Test #4 CONTINUED: Run logistic tests on best features to see if outliers are causing issues.\n",
    "\n",
    "Type: K-fold tests like before on reduced dataset\n",
    "'''\n",
    "%run termination_tests.ipynb"
   ]
  },
  {
   "cell_type": "code",
   "execution_count": 238,
   "metadata": {},
   "outputs": [
    {
     "name": "stdout",
     "output_type": "stream",
     "text": [
      "Running with learning rate of  0.01\n",
      "ionosphere -----\n",
      "\tRunning k_fold on:  ionosphere\n",
      "\tRunning Logistic Regression\n",
      "\n",
      "      Type Average Time (s) Maximum Time (s) Minimum Time (s)\n",
      "0      Fit           0.1273           0.1293           0.1252\n",
      "1  Predict           0.0000           0.0000           0.0000\n",
      "2    Total           0.1273           0.1294           0.1253\n",
      "\n",
      "\t\tAccuracy:  0.8155367231638418\n",
      "\n",
      "adult -----\n",
      "\tRunning k_fold on:  adult\n",
      "\tRunning Logistic Regression\n",
      "\n",
      "      Type Average Time (s) Maximum Time (s) Minimum Time (s)\n",
      "0      Fit          12.7855          13.5778          12.2774\n",
      "1  Predict           0.0006           0.0008           0.0005\n",
      "2    Total          12.7862          13.5784          12.2781\n",
      "\n",
      "\t\tAccuracy:  0.7995470954042576\n",
      "\n",
      "thoracic_surgery -----\n",
      "\tRunning k_fold on:  thoracic_surgery\n",
      "\tRunning Logistic Regression\n",
      "\n",
      "      Type Average Time (s) Maximum Time (s) Minimum Time (s)\n",
      "0      Fit           0.1405           0.1472           0.1360\n",
      "1  Predict           0.0000           0.0000           0.0000\n",
      "2    Total           0.1406           0.1473           0.1361\n",
      "\n",
      "\t\tAccuracy:  0.8570886075949368\n",
      "\n",
      "credit_card -----\n",
      "\tRunning k_fold on:  credit_card\n",
      "\tRunning Logistic Regression\n",
      "\n"
     ]
    },
    {
     "ename": "KeyboardInterrupt",
     "evalue": "",
     "output_type": "error",
     "traceback": [
      "\u001b[0;31m---------------------------------------------------------------\u001b[0m",
      "\u001b[0;31mKeyboardInterrupt\u001b[0m             Traceback (most recent call last)",
      "\u001b[0;32m/mnt/z/GitHub/COMP551/comp-551-mini-project-1/learning_rate_tests.ipynb\u001b[0m in \u001b[0;36m<module>\u001b[0;34m()\u001b[0m\n\u001b[1;32m      1\u001b[0m \u001b[0;31m# Learning Rates using termination 10,000 at 0.01,0.05,0.1,0.2 and 0.3\u001b[0m\u001b[0;34m\u001b[0m\u001b[0;34m\u001b[0m\u001b[0m\n\u001b[0;32m----> 2\u001b[0;31m \u001b[0mlearning_rates_test\u001b[0m\u001b[0;34m(\u001b[0m\u001b[0;34m[\u001b[0m\u001b[0;36m0.01\u001b[0m\u001b[0;34m,\u001b[0m\u001b[0;36m0.05\u001b[0m\u001b[0;34m,\u001b[0m\u001b[0;36m0.1\u001b[0m\u001b[0;34m,\u001b[0m\u001b[0;36m0.2\u001b[0m\u001b[0;34m,\u001b[0m\u001b[0;36m0.3\u001b[0m\u001b[0;34m]\u001b[0m\u001b[0;34m)\u001b[0m\u001b[0;34m\u001b[0m\u001b[0m\n\u001b[0m",
      "\u001b[0;32m/mnt/z/GitHub/COMP551/comp-551-mini-project-1/learning_rate_tests.ipynb\u001b[0m in \u001b[0;36mlearning_rates_test\u001b[0;34m(lrs)\u001b[0m\n\u001b[1;32m      2\u001b[0m     \u001b[0;32mfor\u001b[0m \u001b[0mlr\u001b[0m \u001b[0;32min\u001b[0m \u001b[0mlrs\u001b[0m\u001b[0;34m:\u001b[0m\u001b[0;34m\u001b[0m\u001b[0m\n\u001b[1;32m      3\u001b[0m         \u001b[0mprint\u001b[0m\u001b[0;34m(\u001b[0m\u001b[0;34m\"Running with learning rate of \"\u001b[0m\u001b[0;34m,\u001b[0m \u001b[0mlr\u001b[0m\u001b[0;34m)\u001b[0m\u001b[0;34m\u001b[0m\u001b[0m\n\u001b[0;32m----> 4\u001b[0;31m         \u001b[0mrun_cross_validations\u001b[0m\u001b[0;34m(\u001b[0m\u001b[0mtrain_val\u001b[0m\u001b[0;34m,\u001b[0m\u001b[0;36m5\u001b[0m\u001b[0;34m,\u001b[0m\u001b[0muse_nb\u001b[0m\u001b[0;34m=\u001b[0m\u001b[0;32mFalse\u001b[0m\u001b[0;34m,\u001b[0m\u001b[0mmodel_args\u001b[0m\u001b[0;34m=\u001b[0m\u001b[0;34m[\u001b[0m\u001b[0;36m10000\u001b[0m\u001b[0;34m,\u001b[0m\u001b[0mlr\u001b[0m\u001b[0;34m,\u001b[0m\u001b[0;32mFalse\u001b[0m\u001b[0;34m,\u001b[0m\u001b[0;36m1e-2\u001b[0m\u001b[0;34m,\u001b[0m\u001b[0;32mFalse\u001b[0m\u001b[0;34m]\u001b[0m\u001b[0;34m)\u001b[0m\u001b[0;34m\u001b[0m\u001b[0m\n\u001b[0m",
      "\u001b[0;32m/mnt/z/GitHub/COMP551/comp-551-mini-project-1/learning_rate_tests.ipynb\u001b[0m in \u001b[0;36mrun_cross_validations\u001b[0;34m(datasets, k, use_lr, use_nb, use_nb_log, model_args)\u001b[0m\n\u001b[1;32m     14\u001b[0m             \u001b[0mprint\u001b[0m\u001b[0;34m(\u001b[0m\u001b[0;34m\"\\tRunning Logistic Regression\"\u001b[0m\u001b[0;34m)\u001b[0m\u001b[0;34m\u001b[0m\u001b[0m\n\u001b[1;32m     15\u001b[0m             \u001b[0mprint\u001b[0m\u001b[0;34m(\u001b[0m\u001b[0;34m)\u001b[0m\u001b[0;34m\u001b[0m\u001b[0m\n\u001b[0;32m---> 16\u001b[0;31m             \u001b[0mlogistic_results\u001b[0m \u001b[0;34m=\u001b[0m \u001b[0mk_fold_cross_validation\u001b[0m\u001b[0;34m(\u001b[0m\u001b[0mk\u001b[0m\u001b[0;34m,\u001b[0m\u001b[0mdataset\u001b[0m\u001b[0;34m[\u001b[0m\u001b[0;36m0\u001b[0m\u001b[0;34m]\u001b[0m\u001b[0;34m,\u001b[0m \u001b[0;34m\"LogisticRegression\"\u001b[0m\u001b[0;34m,\u001b[0m\u001b[0;34m[\u001b[0m\u001b[0;34m]\u001b[0m\u001b[0;34m,\u001b[0m\u001b[0mmodel_args\u001b[0m\u001b[0;34m)\u001b[0m\u001b[0;34m\u001b[0m\u001b[0m\n\u001b[0m\u001b[1;32m     17\u001b[0m             \u001b[0mprint\u001b[0m\u001b[0;34m(\u001b[0m\u001b[0;34m)\u001b[0m\u001b[0;34m\u001b[0m\u001b[0m\n\u001b[1;32m     18\u001b[0m             \u001b[0mprint\u001b[0m\u001b[0;34m(\u001b[0m\u001b[0;34m\"\\t\\tAccuracy: \"\u001b[0m\u001b[0;34m,\u001b[0m\u001b[0mlogistic_results\u001b[0m\u001b[0;34m)\u001b[0m\u001b[0;34m\u001b[0m\u001b[0m\n",
      "\u001b[0;32m/mnt/z/GitHub/COMP551/comp-551-mini-project-1/learning_rate_tests.ipynb\u001b[0m in \u001b[0;36mk_fold_cross_validation\u001b[0;34m(k, data, model_name, data_headers, model_args)\u001b[0m\n\u001b[1;32m     34\u001b[0m             \u001b[0mmodel\u001b[0m\u001b[0;34m.\u001b[0m\u001b[0mfit\u001b[0m\u001b[0;34m(\u001b[0m\u001b[0mtrain_X\u001b[0m\u001b[0;34m,\u001b[0m \u001b[0mtrain_Y\u001b[0m\u001b[0;34m,\u001b[0m \u001b[0;32mTrue\u001b[0m\u001b[0;34m)\u001b[0m\u001b[0;34m\u001b[0m\u001b[0m\n\u001b[1;32m     35\u001b[0m \u001b[0;34m\u001b[0m\u001b[0m\n\u001b[0;32m---> 36\u001b[0;31m         \u001b[0mmodel\u001b[0m\u001b[0;34m.\u001b[0m\u001b[0mfit\u001b[0m\u001b[0;34m(\u001b[0m\u001b[0mtrain_X\u001b[0m\u001b[0;34m,\u001b[0m \u001b[0mtrain_Y\u001b[0m\u001b[0;34m)\u001b[0m\u001b[0;34m\u001b[0m\u001b[0m\n\u001b[0m\u001b[1;32m     37\u001b[0m         \u001b[0mall_fit_times\u001b[0m\u001b[0;34m.\u001b[0m\u001b[0mappend\u001b[0m\u001b[0;34m(\u001b[0m\u001b[0mtime\u001b[0m\u001b[0;34m.\u001b[0m\u001b[0mtime\u001b[0m\u001b[0;34m(\u001b[0m\u001b[0;34m)\u001b[0m \u001b[0;34m-\u001b[0m \u001b[0mstart_fit_time\u001b[0m\u001b[0;34m)\u001b[0m\u001b[0;34m\u001b[0m\u001b[0m\n\u001b[1;32m     38\u001b[0m \u001b[0;34m\u001b[0m\u001b[0m\n",
      "\u001b[0;32m/mnt/z/GitHub/COMP551/comp-551-mini-project-1/learning_rate_tests.ipynb\u001b[0m in \u001b[0;36mfit\u001b[0;34m(self, X, y)\u001b[0m\n\u001b[1;32m     42\u001b[0m         \u001b[0;32melse\u001b[0m\u001b[0;34m:\u001b[0m\u001b[0;34m\u001b[0m\u001b[0m\n\u001b[1;32m     43\u001b[0m             \u001b[0;32mfor\u001b[0m \u001b[0mi\u001b[0m \u001b[0;32min\u001b[0m \u001b[0mrange\u001b[0m\u001b[0;34m(\u001b[0m\u001b[0mself\u001b[0m\u001b[0;34m.\u001b[0m\u001b[0mnum_iter\u001b[0m\u001b[0;34m)\u001b[0m\u001b[0;34m:\u001b[0m\u001b[0;34m\u001b[0m\u001b[0m\n\u001b[0;32m---> 44\u001b[0;31m                 \u001b[0myh\u001b[0m \u001b[0;34m=\u001b[0m \u001b[0mself\u001b[0m\u001b[0;34m.\u001b[0m\u001b[0msigmoid\u001b[0m\u001b[0;34m(\u001b[0m\u001b[0mnp\u001b[0m\u001b[0;34m.\u001b[0m\u001b[0mdot\u001b[0m\u001b[0;34m(\u001b[0m\u001b[0mX\u001b[0m\u001b[0;34m,\u001b[0m \u001b[0mself\u001b[0m\u001b[0;34m.\u001b[0m\u001b[0mw\u001b[0m\u001b[0;34m)\u001b[0m\u001b[0;34m)\u001b[0m\u001b[0;34m\u001b[0m\u001b[0m\n\u001b[0m\u001b[1;32m     45\u001b[0m                 \u001b[0mg\u001b[0m \u001b[0;34m=\u001b[0m \u001b[0mnp\u001b[0m\u001b[0;34m.\u001b[0m\u001b[0mdot\u001b[0m\u001b[0;34m(\u001b[0m\u001b[0mX\u001b[0m\u001b[0;34m.\u001b[0m\u001b[0mT\u001b[0m\u001b[0;34m,\u001b[0m \u001b[0;34m(\u001b[0m\u001b[0myh\u001b[0m \u001b[0;34m-\u001b[0m \u001b[0my\u001b[0m\u001b[0;34m)\u001b[0m\u001b[0;34m)\u001b[0m \u001b[0;34m/\u001b[0m \u001b[0mN\u001b[0m\u001b[0;34m\u001b[0m\u001b[0m\n\u001b[1;32m     46\u001b[0m                 \u001b[0mself\u001b[0m\u001b[0;34m.\u001b[0m\u001b[0mw\u001b[0m \u001b[0;34m=\u001b[0m \u001b[0mself\u001b[0m\u001b[0;34m.\u001b[0m\u001b[0mw\u001b[0m \u001b[0;34m-\u001b[0m \u001b[0mself\u001b[0m\u001b[0;34m.\u001b[0m\u001b[0mlr\u001b[0m\u001b[0;34m*\u001b[0m\u001b[0mg\u001b[0m\u001b[0;34m\u001b[0m\u001b[0m\n",
      "\u001b[0;31mKeyboardInterrupt\u001b[0m: "
     ]
    }
   ],
   "source": [
    "'''\n",
    "Test #4 CONTINUED: Run logistic tests on best features to see if outliers are causing issues.\n",
    "\n",
    "Type: K-fold tests like before on reduced dataset\n",
    "'''\n",
    "%run learning_rate_tests.ipynb"
   ]
  },
  {
   "cell_type": "code",
   "execution_count": 240,
   "metadata": {},
   "outputs": [],
   "source": [
    "train_val = train_val_full"
   ]
  },
  {
   "cell_type": "code",
   "execution_count": 241,
   "metadata": {},
   "outputs": [],
   "source": [
    "'''\n",
    "Found best features form analyzing above!\n",
    "'''\n",
    "best_logistic_model_args=[5000,0.1,False,1e-2]"
   ]
  },
  {
   "cell_type": "code",
   "execution_count": null,
   "metadata": {},
   "outputs": [
    {
     "name": "stdout",
     "output_type": "stream",
     "text": [
      "RUNNING 5 FOLD ON EACH DATASET\n",
      "ionosphere -----\n",
      "\tRunning k_fold on:  ionosphere\n",
      "\tRunning Logistic Regression\n",
      "\n"
     ]
    },
    {
     "data": {
      "image/png": "[encoded data removed]",
      "text/plain": [
       "<Figure size 432x288 with 1 Axes>"
      ]
     },
     "metadata": {
      "needs_background": "light"
     },
     "output_type": "display_data"
    },
    {
     "data": {
      "image/png": "[encoded data removed]",
      "text/plain": [
       "<Figure size 432x288 with 1 Axes>"
      ]
     },
     "metadata": {
      "needs_background": "light"
     },
     "output_type": "display_data"
    },
    {
     "data": {
      "image/png": "[encoded data removed]",
      "text/plain": [
       "<Figure size 432x288 with 1 Axes>"
      ]
     },
     "metadata": {
      "needs_background": "light"
     },
     "output_type": "display_data"
    },
    {
     "data": {
      "image/png": "[encoded data removed]",
      "text/plain": [
       "<Figure size 432x288 with 1 Axes>"
      ]
     },
     "metadata": {
      "needs_background": "light"
     },
     "output_type": "display_data"
    },
    {
     "data": {
      "image/png": "[encoded data removed]",
      "text/plain": [
       "<Figure size 432x288 with 1 Axes>"
      ]
     },
     "metadata": {
      "needs_background": "light"
     },
     "output_type": "display_data"
    },
    {
     "name": "stdout",
     "output_type": "stream",
     "text": [
      "      Type Average Time (s) Maximum Time (s) Minimum Time (s)\n",
      "0      Fit           0.1422           0.1645           0.1334\n",
      "1  Predict           0.0001           0.0001           0.0001\n",
      "2    Total           0.1423           0.1645           0.1335\n",
      "\n",
      "\t\tAccuracy:  0.8523728813559321\n",
      "\n",
      "\n",
      "\tRunning Naive Bayes Non-Log\n",
      "\n",
      "      Type Average Time (s) Maximum Time (s) Minimum Time (s)\n",
      "0      Fit           0.0064           0.0069           0.0063\n",
      "1  Predict           0.0045           0.0046           0.0043\n",
      "2    Total           0.0109           0.0112           0.0108\n",
      "\n",
      "\t\tAccuracy:  0.8324858757062147\n",
      "\n",
      "\n",
      "\tRunning Naive Bayes Log Laplace\n",
      "\n",
      "      Type Average Time (s) Maximum Time (s) Minimum Time (s)\n",
      "0      Fit           0.0129           0.0132           0.0127\n",
      "1  Predict           0.0046           0.0047           0.0044\n",
      "2    Total           0.0174           0.0179           0.0172\n",
      "\n",
      "\t\tAccuracy:  0.822090395480226\n",
      "\n",
      "adult -----\n",
      "\tRunning k_fold on:  adult\n",
      "\tRunning Logistic Regression\n",
      "\n"
     ]
    },
    {
     "data": {
      "image/png": "[encoded data removed]",
      "text/plain": [
       "<Figure size 432x288 with 1 Axes>"
      ]
     },
     "metadata": {
      "needs_background": "light"
     },
     "output_type": "display_data"
    },
    {
     "data": {
      "image/png": "[encoded data removed]",
      "text/plain": [
       "<Figure size 432x288 with 1 Axes>"
      ]
     },
     "metadata": {
      "needs_background": "light"
     },
     "output_type": "display_data"
    },
    {
     "data": {
      "image/png": "[encoded data removed]",
      "text/plain": [
       "<Figure size 432x288 with 1 Axes>"
      ]
     },
     "metadata": {
      "needs_background": "light"
     },
     "output_type": "display_data"
    }
   ],
   "source": [
    "'''\n",
    "Test #4: K-fold test on 5, 10, 15 with best parameters on whole training set from **above**!\n",
    "'''\n",
    "%run k_fold_tests.ipynb\n",
    "k_fold_tests([5,10,15])"
   ]
  },
  {
   "cell_type": "code",
   "execution_count": null,
   "metadata": {},
   "outputs": [],
   "source": [
    "'''\n",
    "Test #4: K-fold test on 5, 10, 15 with best parameters on GOOD FEATURES ONLY from **above**!\n",
    "'''\n",
    "train_val = train_val_new\n",
    "%run k_fold_tests.ipynb\n",
    "k_fold_tests([5,10,15])"
   ]
  },
  {
   "cell_type": "code",
   "execution_count": null,
   "metadata": {},
   "outputs": [],
   "source": [
    "'''\n",
    "Test #5: Splits Test, Trains on Percentage of Training Set and Prints accuracy from Test Set\n",
    "\n",
    "Type: Test on test set.\n",
    "\n",
    "GOOD FEATURES ONLY\n",
    "'''\n",
    "%run splits_tests.ipynb"
   ]
  },
  {
   "cell_type": "code",
   "execution_count": null,
   "metadata": {},
   "outputs": [],
   "source": [
    "'''\n",
    "Test #6: Equal Labels Test removes randomized samples to have equal labels for each dataset\n",
    "\n",
    "Type: 5-fold for each.\n",
    "\n",
    "GOOD FEATURES ONLY\n",
    "\n",
    "'''\n",
    "%run equal_labels_tests.ipynb"
   ]
  },
  {
   "cell_type": "code",
   "execution_count": null,
   "metadata": {},
   "outputs": [],
   "source": [
    "'''\n",
    "Test #7: Getting Optimal Features\n",
    "\n",
    "Type: Predict on the test that we set aside for each feature.\n",
    "'''"
   ]
  },
  {
   "cell_type": "code",
   "execution_count": null,
   "metadata": {},
   "outputs": [],
   "source": [
    "'''\n",
    "Final Test: \n",
    "    Eps Vs. Num_iter => Best: Num_iter 5000\n",
    "    Best LR => Best: L.R 0.1\n",
    "    Optimal Features!\n",
    "    Best Split => Best: \n",
    "    Equal Labels => Best: NO\n",
    "'''"
   ]
  }
 ],
 "metadata": {
  "kernelspec": {
   "display_name": "Python 3",
   "language": "python",
   "name": "python3"
  },
  "language_info": {
   "codemirror_mode": {
    "name": "ipython",
    "version": 3
   },
   "file_extension": ".py",
   "mimetype": "text/x-python",
   "name": "python",
   "nbconvert_exporter": "python",
   "pygments_lexer": "ipython3",
   "version": "3.7.0"
  }
 },
 "nbformat": 4,
 "nbformat_minor": 2
}
