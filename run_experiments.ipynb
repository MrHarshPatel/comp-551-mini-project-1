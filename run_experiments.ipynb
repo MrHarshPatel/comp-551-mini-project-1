{
 "cells": [
  {
   "cell_type": "code",
   "execution_count": 12,
   "metadata": {},
   "outputs": [],
   "source": [
    "import time"
   ]
  },
  {
   "cell_type": "code",
   "execution_count": 13,
   "metadata": {},
   "outputs": [],
   "source": [
    "%store -r ionosphere_export\n",
    "%store -r adult_export\n",
    "%store -r thoracic_export\n",
    "%store -r credit_export\n",
    "\n",
    "%store -r ionosphere_headers\n",
    "%store -r adult_headers\n",
    "%store -r thoracic_headers\n",
    "%store -r credit_headers"
   ]
  },
  {
   "cell_type": "code",
   "execution_count": null,
   "metadata": {},
   "outputs": [],
   "source": [
    "# Set after running all the tests\n",
    "best_values = {\n",
    "    \"k\": 5,\n",
    "    \"lr\": 0.05,\n",
    "    \"eps\": 1e-2,\n",
    "    \"use_gradient\": False\n",
    "}\n"
   ]
  },
  {
   "cell_type": "code",
   "execution_count": 14,
   "metadata": {},
   "outputs": [],
   "source": [
    "datasets = {\n",
    "    \"ionosphere\": [ionosphere_export,ionosphere_headers],\n",
    "    \"adult\": [adult_export,adult_headers],\n",
    "    \"thoracic_surgery\": [thoracic_export,thoracic_headers],\n",
    "    \"credit_card\": [credit_export,credit_headers]\n",
    "}"
   ]
  },
  {
   "cell_type": "code",
   "execution_count": 15,
   "metadata": {},
   "outputs": [
    {
     "data": {
      "image/png": "[encoded data removed]",
      "text/plain": [
       "<Figure size 432x288 with 1 Axes>"
      ]
     },
     "metadata": {
      "needs_background": "light"
     },
     "output_type": "display_data"
    }
   ],
   "source": [
    "%run validation.ipynb"
   ]
  },
  {
   "cell_type": "code",
   "execution_count": 16,
   "metadata": {},
   "outputs": [],
   "source": [
    "def run_cross_validations(datasets, k, use_lr=True,use_nb=True,model_args=[]):\n",
    "    results = {}\n",
    "    for name,dataset in datasets.items():\n",
    "        print(name, \"-----\")\n",
    "        print(\"\\tRunning k_fold on: \",name)\n",
    "        \n",
    "        naive_results = None\n",
    "        logistic_results = None\n",
    "        \n",
    "        if(use_lr):\n",
    "            print(\"\\tRunning Logistic Regression\")\n",
    "            print()\n",
    "            logistic_results = k_fold_cross_validation(k,dataset[0], \"LogisticRegression\",model_args)\n",
    "            print()\n",
    "            print(\"\\t\\tAccuracy: \",logistic_results)\n",
    "            print()\n",
    "        if(use_nb):\n",
    "            print()\n",
    "            print(\"\\tRunning Naive Bayes\")\n",
    "            print()\n",
    "            naive_results = k_fold_cross_validation(k,dataset[0], \"NaiveBayes\",dataset[1],model_args)\n",
    "            print()\n",
    "            print(\"\\t\\tAccuracy: \",naive_results)\n",
    "            print()\n",
    "        results[name] = [logistic_results,naive_results]\n",
    "    return results"
   ]
  }
 ],
 "metadata": {
  "kernelspec": {
   "display_name": "Python 3",
   "language": "python",
   "name": "python3"
  },
  "language_info": {
   "codemirror_mode": {
    "name": "ipython",
    "version": 3
   },
   "file_extension": ".py",
   "mimetype": "text/x-python",
   "name": "python",
   "nbconvert_exporter": "python",
   "pygments_lexer": "ipython3",
   "version": "3.7.0"
  }
 },
 "nbformat": 4,
 "nbformat_minor": 2
}
