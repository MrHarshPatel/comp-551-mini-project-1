{
 "cells": [
  {
   "cell_type": "code",
   "execution_count": 225,
   "metadata": {},
   "outputs": [],
   "source": [
    "import time"
   ]
  },
  {
   "cell_type": "code",
   "execution_count": 226,
   "metadata": {},
   "outputs": [],
   "source": [
    "%store -r ionosphere_export\n",
    "%store -r adult_export\n",
    "%store -r thoracic_export\n",
    "%store -r credit_export\n",
    "\n",
    "%store -r ionosphere_headers\n",
    "%store -r adult_headers\n",
    "%store -r thoracic_headers\n",
    "%store -r credit_headers"
   ]
  },
  {
   "cell_type": "code",
   "execution_count": 227,
   "metadata": {},
   "outputs": [],
   "source": [
    "datasets = {\n",
    "    \"ionosphere\": [ionosphere_export,ionosphere_headers],\n",
    "    \"adult\": [adult_export,adult_headers],\n",
    "    \"thoracic_surgery\": [thoracic_export,thoracic_headers],\n",
    "    \"credit_card\": [credit_export,credit_headers]\n",
    "}"
   ]
  },
  {
   "cell_type": "code",
   "execution_count": 228,
   "metadata": {},
   "outputs": [],
   "source": [
    "%run validation.ipynb"
   ]
  },
  {
   "cell_type": "code",
   "execution_count": 229,
   "metadata": {},
   "outputs": [],
   "source": [
    "def run_cross_validations(datasets, k, use_lr=True,use_nb=True,model_args=[]):\n",
    "    results = {}\n",
    "    for name,dataset in datasets.items():\n",
    "        print(name, \"-----\")\n",
    "        print(\"\\tRunning k_fold on: \",name)\n",
    "        \n",
    "        naive_results = None\n",
    "        logistic_results = None\n",
    "        \n",
    "        if(use_lr):\n",
    "            print(\"\\tRunning Logistic Regression\")\n",
    "            print()\n",
    "            logistic_results = k_fold_cross_validation(k,dataset[0], \"LogisticRegression\",model_args)\n",
    "            print()\n",
    "            print(\"\\t\\tAccuracy: \",logistic_results)\n",
    "            print()\n",
    "        if(use_nb):\n",
    "            print()\n",
    "            print(\"\\tRunning Naive Bayes\")\n",
    "            print()\n",
    "            naive_results = k_fold_cross_validation(k,dataset[0], \"NaiveBayes\",dataset[1],model_args)\n",
    "            print()\n",
    "            print(\"\\t\\tAccuracy: \",naive_results)\n",
    "            print()\n",
    "        results[name] = [logistic_results,naive_results]\n",
    "    return results"
   ]
  },
  {
   "cell_type": "code",
   "execution_count": 230,
   "metadata": {},
   "outputs": [],
   "source": [
    "def k_fold_tests(k_values):\n",
    "    for k in k_values:\n",
    "        run_cross_validations(datasets, k)"
   ]
  },
  {
   "cell_type": "code",
   "execution_count": null,
   "metadata": {},
   "outputs": [
    {
     "name": "stdout",
     "output_type": "stream",
     "text": [
      "ionosphere -----\n",
      "\tRunning k_fold on:  ionosphere\n",
      "\tRunning Logistic Regression\n",
      "\n",
      "\t\t           Type Average Time (s) Maximum Time (s) Minimum Time (s)\n",
      "0      \\t\\tFit           3.3456           3.6140           3.2593\n",
      "1  \\t\\tPredict           0.0001           0.0001           0.0001\n",
      "2    \\t\\tTotal           3.3456           3.6141           3.2594\n",
      "\n",
      "\t\tAccuracy:  0.8519517102615695\n",
      "\n",
      "\n",
      "\tRunning Naive Bayes\n",
      "\n",
      "\t\t           Type Average Time (s) Maximum Time (s) Minimum Time (s)\n",
      "0      \\t\\tFit           0.0134           0.0150           0.0129\n",
      "1  \\t\\tPredict           0.0097           0.0099           0.0096\n",
      "2    \\t\\tTotal           0.0231           0.0249           0.0225\n",
      "\n",
      "\t\tAccuracy:  0.8177062374245473\n",
      "\n",
      "adult -----\n",
      "\tRunning k_fold on:  adult\n",
      "\tRunning Logistic Regression\n",
      "\n"
     ]
    }
   ],
   "source": [
    "# All accuracies 5-fold, 10-fold, 20-fold\n",
    "k_fold_tests([5,10,20])"
   ]
  },
  {
   "cell_type": "code",
   "execution_count": null,
   "metadata": {},
   "outputs": [],
   "source": [
    "def learning_rates_test(lrs):\n",
    "    for lr in lrs:\n",
    "        run_cross_validations(datasets,5,use_nb=False,model_args=[100000,lr,False,1e-2])"
   ]
  },
  {
   "cell_type": "code",
   "execution_count": null,
   "metadata": {},
   "outputs": [],
   "source": [
    "# Learning Rates using termination 100,000 at 0.01,0.05,0.1,0.2 and 0.3\n",
    "learning_rates_test([0.01,0.05,0.1,0.2,0.3])"
   ]
  },
  {
   "cell_type": "code",
   "execution_count": null,
   "metadata": {},
   "outputs": [],
   "source": [
    "def use_epsilons_test(eps):\n",
    "    for e in eps:\n",
    "        run_cross_validations(datasets,5,use_nb=False,model_args=[100000,0.01,False,e])"
   ]
  },
  {
   "cell_type": "code",
   "execution_count": null,
   "metadata": {},
   "outputs": [],
   "source": [
    "# Learning Rates using termination 100,000 at 0.01,0.05,0.1,0.2 and 0.3\n",
    "use_epsilons_test([1e-1,1e-2,1e-3])"
   ]
  }
 ],
 "metadata": {
  "kernelspec": {
   "display_name": "Python 3",
   "language": "python",
   "name": "python3"
  },
  "language_info": {
   "codemirror_mode": {
    "name": "ipython",
    "version": 3
   },
   "file_extension": ".py",
   "mimetype": "text/x-python",
   "name": "python",
   "nbconvert_exporter": "python",
   "pygments_lexer": "ipython3",
   "version": "3.6.5"
  }
 },
 "nbformat": 4,
 "nbformat_minor": 2
}
