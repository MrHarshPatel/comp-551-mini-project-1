{
 "cells": [
  {
   "cell_type": "code",
   "execution_count": 14,
   "metadata": {},
   "outputs": [],
   "source": [
    "import numpy as np "
   ]
  },
  {
   "cell_type": "code",
   "execution_count": 15,
   "metadata": {},
   "outputs": [],
   "source": [
    "%run data_preprocessing/ionosphere_data.ipynb"
   ]
  },
  {
   "cell_type": "code",
   "execution_count": 27,
   "metadata": {},
   "outputs": [],
   "source": [
    "class LogisticRegression:\n",
    "    def __init__(self, lr=0.01, eps=1e-2, num_iter=10000, ):        \n",
    "        # initialize hyperparameters \n",
    "        self.lr = lr\n",
    "        self.eps = eps\n",
    "        self.num_iter = num_iter\n",
    "        self.w = []\n",
    "        \n",
    "    def add_intercept(self, X):\n",
    "        N,D = X.shape\n",
    "        intercept = np.ones((N, 1), dtype = X.dtype)\n",
    "        return np.concatenate((intercept, X), axis=1)\n",
    "        \n",
    "    def sigmoid(self, Z):\n",
    "        return 1 / (1 + np.exp(-Z))\n",
    "    \n",
    "    def fit(self, X, y):\n",
    "        X = self.add_intercept(X)\n",
    "        N,D = X.shape\n",
    "        self.w = np.zeros(D)\n",
    "        \n",
    "        g = np.inf \n",
    "        \n",
    "        while np.linalg.norm(g) > self.eps:\n",
    "#         for i in range(100000):\n",
    "            yh = self.sigmoid(np.dot(X, self.w))\n",
    "            g = np.dot(X.T, (yh - y)) / N\n",
    "            self.w = self.w - self.lr*g\n",
    "        \n",
    "        print (self.w)\n",
    "        \n",
    "\n",
    "    \n",
    "    def predict(self, X):     \n",
    "        X = self.add_intercept(X)\n",
    "        print(X)\n",
    "        yh = self.sigmoid(np.dot(X, self.w))\n",
    "        return int(yh >= 0.5) \n",
    "        \n",
    "        \n",
    "        \n",
    "\n",
    "    "
   ]
  },
  {
   "cell_type": "code",
   "execution_count": 29,
   "metadata": {},
   "outputs": [
    {
     "name": "stdout",
     "output_type": "stream",
     "text": [
      "[-3.90876305  1.97134128  1.69623103  0.6887892   2.05534016  1.3002874\n",
      "  0.56242602  1.68344798  1.23372793  0.13934878 -1.13491116 -0.44780797\n",
      " -0.47324959  1.00497047  0.80591848 -0.21114112  0.29745399  0.69524138\n",
      " -0.62839348 -0.01751338  0.22698444 -2.40109944  1.12854116  0.68270134\n",
      "  0.58273099  1.2635086  -2.46871696 -0.33139439  0.62553685  0.84215945\n",
      "  0.82819734 -0.42234506 -0.29033422 -1.34559573]\n",
      "[[ 1.       1.       1.      -0.02401  0.9414   0.06531  0.92106 -0.23255\n",
      "   0.77152 -0.16399  0.52798 -0.20275  0.56409 -0.00712  0.34395 -0.27457\n",
      "   0.5294  -0.2178   0.45107 -0.17813  0.05982 -0.35575  0.02309 -0.52879\n",
      "   0.03286 -0.65158  0.1329  -0.53206  0.02431 -0.62197 -0.05707 -0.59573\n",
      "  -0.04608 -0.65697]\n",
      " [ 1.       1.       1.      -0.02401  0.9414   0.06531  0.92106 -0.23255\n",
      "   0.77152 -0.16399  0.52798 -0.20275  0.56409 -0.00712  0.34395 -0.27457\n",
      "   0.5294  -0.2178   0.45107 -0.17813  0.05982 -0.35575  0.02309 -0.52879\n",
      "   0.03286 -0.65158  0.1329  -0.53206  0.02431 -0.62197 -0.05707 -0.59573\n",
      "  -0.04608 -0.65697]]\n"
     ]
    },
    {
     "ename": "TypeError",
     "evalue": "only size-1 arrays can be converted to Python scalars",
     "output_type": "error",
     "traceback": [
      "\u001b[1;31m---------------------------------------------------------------------------\u001b[0m",
      "\u001b[1;31mTypeError\u001b[0m                                 Traceback (most recent call last)",
      "\u001b[1;32m<ipython-input-29-5de62f320bc7>\u001b[0m in \u001b[0;36m<module>\u001b[1;34m\u001b[0m\n\u001b[0;32m      5\u001b[0m \u001b[0mlr\u001b[0m \u001b[1;33m=\u001b[0m \u001b[0mLogisticRegression\u001b[0m\u001b[1;33m(\u001b[0m\u001b[1;33m)\u001b[0m\u001b[1;33m\u001b[0m\u001b[1;33m\u001b[0m\u001b[0m\n\u001b[0;32m      6\u001b[0m \u001b[0mlr\u001b[0m\u001b[1;33m.\u001b[0m\u001b[0mfit\u001b[0m\u001b[1;33m(\u001b[0m\u001b[0mX\u001b[0m\u001b[1;33m,\u001b[0m \u001b[0my\u001b[0m\u001b[1;33m)\u001b[0m\u001b[1;33m\u001b[0m\u001b[1;33m\u001b[0m\u001b[0m\n\u001b[1;32m----> 7\u001b[1;33m \u001b[0mlr\u001b[0m\u001b[1;33m.\u001b[0m\u001b[0mpredict\u001b[0m\u001b[1;33m(\u001b[0m\u001b[0mnp\u001b[0m\u001b[1;33m.\u001b[0m\u001b[0mmatrix\u001b[0m\u001b[1;33m(\u001b[0m\u001b[1;33m[\u001b[0m\u001b[1;33m[\u001b[0m\u001b[1;36m1\u001b[0m\u001b[1;33m,\u001b[0m\u001b[1;36m1\u001b[0m\u001b[1;33m,\u001b[0m\u001b[1;33m-\u001b[0m\u001b[1;36m0.02401\u001b[0m\u001b[1;33m,\u001b[0m\u001b[1;36m0.94140\u001b[0m\u001b[1;33m,\u001b[0m\u001b[1;36m0.06531\u001b[0m\u001b[1;33m,\u001b[0m\u001b[1;36m0.92106\u001b[0m\u001b[1;33m,\u001b[0m\u001b[1;33m-\u001b[0m\u001b[1;36m0.23255\u001b[0m\u001b[1;33m,\u001b[0m\u001b[1;36m0.77152\u001b[0m\u001b[1;33m,\u001b[0m\u001b[1;33m-\u001b[0m\u001b[1;36m0.16399\u001b[0m\u001b[1;33m,\u001b[0m\u001b[1;36m0.52798\u001b[0m\u001b[1;33m,\u001b[0m\u001b[1;33m-\u001b[0m\u001b[1;36m0.20275\u001b[0m\u001b[1;33m,\u001b[0m\u001b[1;36m0.56409\u001b[0m\u001b[1;33m,\u001b[0m\u001b[1;33m-\u001b[0m\u001b[1;36m0.00712\u001b[0m\u001b[1;33m,\u001b[0m\u001b[1;36m0.34395\u001b[0m\u001b[1;33m,\u001b[0m\u001b[1;33m-\u001b[0m\u001b[1;36m0.27457\u001b[0m\u001b[1;33m,\u001b[0m\u001b[1;36m0.52940\u001b[0m\u001b[1;33m,\u001b[0m\u001b[1;33m-\u001b[0m\u001b[1;36m0.21780\u001b[0m\u001b[1;33m,\u001b[0m\u001b[1;36m0.45107\u001b[0m\u001b[1;33m,\u001b[0m\u001b[1;33m-\u001b[0m\u001b[1;36m0.17813\u001b[0m\u001b[1;33m,\u001b[0m\u001b[1;36m0.05982\u001b[0m\u001b[1;33m,\u001b[0m\u001b[1;33m-\u001b[0m\u001b[1;36m0.35575\u001b[0m\u001b[1;33m,\u001b[0m\u001b[1;36m0.02309\u001b[0m\u001b[1;33m,\u001b[0m\u001b[1;33m-\u001b[0m\u001b[1;36m0.52879\u001b[0m\u001b[1;33m,\u001b[0m\u001b[1;36m0.03286\u001b[0m\u001b[1;33m,\u001b[0m\u001b[1;33m-\u001b[0m\u001b[1;36m0.65158\u001b[0m\u001b[1;33m,\u001b[0m\u001b[1;36m0.13290\u001b[0m\u001b[1;33m,\u001b[0m\u001b[1;33m-\u001b[0m\u001b[1;36m0.53206\u001b[0m\u001b[1;33m,\u001b[0m\u001b[1;36m0.02431\u001b[0m\u001b[1;33m,\u001b[0m\u001b[1;33m-\u001b[0m\u001b[1;36m0.62197\u001b[0m\u001b[1;33m,\u001b[0m\u001b[1;33m-\u001b[0m\u001b[1;36m0.05707\u001b[0m\u001b[1;33m,\u001b[0m\u001b[1;33m-\u001b[0m\u001b[1;36m0.59573\u001b[0m\u001b[1;33m,\u001b[0m\u001b[1;33m-\u001b[0m\u001b[1;36m0.04608\u001b[0m\u001b[1;33m,\u001b[0m\u001b[1;33m-\u001b[0m\u001b[1;36m0.65697\u001b[0m\u001b[1;33m]\u001b[0m\u001b[1;33m,\u001b[0m\u001b[1;33m[\u001b[0m\u001b[1;36m1\u001b[0m\u001b[1;33m,\u001b[0m\u001b[1;36m1\u001b[0m\u001b[1;33m,\u001b[0m\u001b[1;33m-\u001b[0m\u001b[1;36m0.02401\u001b[0m\u001b[1;33m,\u001b[0m\u001b[1;36m0.94140\u001b[0m\u001b[1;33m,\u001b[0m\u001b[1;36m0.06531\u001b[0m\u001b[1;33m,\u001b[0m\u001b[1;36m0.92106\u001b[0m\u001b[1;33m,\u001b[0m\u001b[1;33m-\u001b[0m\u001b[1;36m0.23255\u001b[0m\u001b[1;33m,\u001b[0m\u001b[1;36m0.77152\u001b[0m\u001b[1;33m,\u001b[0m\u001b[1;33m-\u001b[0m\u001b[1;36m0.16399\u001b[0m\u001b[1;33m,\u001b[0m\u001b[1;36m0.52798\u001b[0m\u001b[1;33m,\u001b[0m\u001b[1;33m-\u001b[0m\u001b[1;36m0.20275\u001b[0m\u001b[1;33m,\u001b[0m\u001b[1;36m0.56409\u001b[0m\u001b[1;33m,\u001b[0m\u001b[1;33m-\u001b[0m\u001b[1;36m0.00712\u001b[0m\u001b[1;33m,\u001b[0m\u001b[1;36m0.34395\u001b[0m\u001b[1;33m,\u001b[0m\u001b[1;33m-\u001b[0m\u001b[1;36m0.27457\u001b[0m\u001b[1;33m,\u001b[0m\u001b[1;36m0.52940\u001b[0m\u001b[1;33m,\u001b[0m\u001b[1;33m-\u001b[0m\u001b[1;36m0.21780\u001b[0m\u001b[1;33m,\u001b[0m\u001b[1;36m0.45107\u001b[0m\u001b[1;33m,\u001b[0m\u001b[1;33m-\u001b[0m\u001b[1;36m0.17813\u001b[0m\u001b[1;33m,\u001b[0m\u001b[1;36m0.05982\u001b[0m\u001b[1;33m,\u001b[0m\u001b[1;33m-\u001b[0m\u001b[1;36m0.35575\u001b[0m\u001b[1;33m,\u001b[0m\u001b[1;36m0.02309\u001b[0m\u001b[1;33m,\u001b[0m\u001b[1;33m-\u001b[0m\u001b[1;36m0.52879\u001b[0m\u001b[1;33m,\u001b[0m\u001b[1;36m0.03286\u001b[0m\u001b[1;33m,\u001b[0m\u001b[1;33m-\u001b[0m\u001b[1;36m0.65158\u001b[0m\u001b[1;33m,\u001b[0m\u001b[1;36m0.13290\u001b[0m\u001b[1;33m,\u001b[0m\u001b[1;33m-\u001b[0m\u001b[1;36m0.53206\u001b[0m\u001b[1;33m,\u001b[0m\u001b[1;36m0.02431\u001b[0m\u001b[1;33m,\u001b[0m\u001b[1;33m-\u001b[0m\u001b[1;36m0.62197\u001b[0m\u001b[1;33m,\u001b[0m\u001b[1;33m-\u001b[0m\u001b[1;36m0.05707\u001b[0m\u001b[1;33m,\u001b[0m\u001b[1;33m-\u001b[0m\u001b[1;36m0.59573\u001b[0m\u001b[1;33m,\u001b[0m\u001b[1;33m-\u001b[0m\u001b[1;36m0.04608\u001b[0m\u001b[1;33m,\u001b[0m\u001b[1;33m-\u001b[0m\u001b[1;36m0.65697\u001b[0m\u001b[1;33m]\u001b[0m\u001b[1;33m]\u001b[0m\u001b[1;33m)\u001b[0m\u001b[1;33m)\u001b[0m\u001b[1;33m\u001b[0m\u001b[1;33m\u001b[0m\u001b[0m\n\u001b[0m",
      "\u001b[1;32m<ipython-input-27-f81546185690>\u001b[0m in \u001b[0;36mpredict\u001b[1;34m(self, X)\u001b[0m\n\u001b[0;32m     36\u001b[0m         \u001b[0mprint\u001b[0m\u001b[1;33m(\u001b[0m\u001b[0mX\u001b[0m\u001b[1;33m)\u001b[0m\u001b[1;33m\u001b[0m\u001b[1;33m\u001b[0m\u001b[0m\n\u001b[0;32m     37\u001b[0m         \u001b[0myh\u001b[0m \u001b[1;33m=\u001b[0m \u001b[0mself\u001b[0m\u001b[1;33m.\u001b[0m\u001b[0msigmoid\u001b[0m\u001b[1;33m(\u001b[0m\u001b[0mnp\u001b[0m\u001b[1;33m.\u001b[0m\u001b[0mdot\u001b[0m\u001b[1;33m(\u001b[0m\u001b[0mX\u001b[0m\u001b[1;33m,\u001b[0m \u001b[0mself\u001b[0m\u001b[1;33m.\u001b[0m\u001b[0mw\u001b[0m\u001b[1;33m)\u001b[0m\u001b[1;33m)\u001b[0m\u001b[1;33m\u001b[0m\u001b[1;33m\u001b[0m\u001b[0m\n\u001b[1;32m---> 38\u001b[1;33m         \u001b[1;32mreturn\u001b[0m \u001b[0mint\u001b[0m\u001b[1;33m(\u001b[0m\u001b[0myh\u001b[0m \u001b[1;33m>=\u001b[0m \u001b[1;36m0.5\u001b[0m\u001b[1;33m)\u001b[0m\u001b[1;33m\u001b[0m\u001b[1;33m\u001b[0m\u001b[0m\n\u001b[0m\u001b[0;32m     39\u001b[0m \u001b[1;33m\u001b[0m\u001b[0m\n\u001b[0;32m     40\u001b[0m \u001b[1;33m\u001b[0m\u001b[0m\n",
      "\u001b[1;31mTypeError\u001b[0m: only size-1 arrays can be converted to Python scalars"
     ]
    }
   ],
   "source": [
    "X = ionosphere_export[:, :-1]\n",
    "y = ionosphere_export[:, -1]\n",
    "\n",
    "\n",
    "lr = LogisticRegression()\n",
    "lr.fit(X, y)\n",
    "lr.predict(np.matrix([[1,1,-0.02401,0.94140,0.06531,0.92106,-0.23255,0.77152,-0.16399,0.52798,-0.20275,0.56409,-0.00712,0.34395,-0.27457,0.52940,-0.21780,0.45107,-0.17813,0.05982,-0.35575,0.02309,-0.52879,0.03286,-0.65158,0.13290,-0.53206,0.02431,-0.62197,-0.05707,-0.59573,-0.04608,-0.65697],[1,1,-0.02401,0.94140,0.06531,0.92106,-0.23255,0.77152,-0.16399,0.52798,-0.20275,0.56409,-0.00712,0.34395,-0.27457,0.52940,-0.21780,0.45107,-0.17813,0.05982,-0.35575,0.02309,-0.52879,0.03286,-0.65158,0.13290,-0.53206,0.02431,-0.62197,-0.05707,-0.59573,-0.04608,-0.65697]]))"
   ]
  },
  {
   "cell_type": "code",
   "execution_count": 32,
   "metadata": {},
   "outputs": [
    {
     "data": {
      "text/plain": [
       "array([[    39,  77516,     13, ...,      1,      0,      0],\n",
       "       [    50,  83311,     13, ...,      1,      0,      0],\n",
       "       [    38, 215646,      9, ...,      1,      0,      0],\n",
       "       ...,\n",
       "       [    38, 374983,     13, ...,      1,      0,      0],\n",
       "       [    44,  83891,     13, ...,      1,      0,      0],\n",
       "       [    35, 182148,     13, ...,      1,      0,      0]], dtype=int64)"
      ]
     },
     "execution_count": 32,
     "metadata": {},
     "output_type": "execute_result"
    }
   ],
   "source": [
    "def evaluate_acc(X, y):\n"
   ]
  },
  {
   "cell_type": "code",
   "execution_count": 24,
   "metadata": {},
   "outputs": [],
   "source": [
    "class LogisticRegression2:\n",
    "    def __init__(self, lr=0.01, num_iter=100000, fit_intercept=True, verbose=False):\n",
    "        self.lr = lr\n",
    "        self.num_iter = num_iter\n",
    "        self.fit_intercept = fit_intercept\n",
    "        self.verbose = verbose\n",
    "    \n",
    "    def __add_intercept(self, X):\n",
    "        intercept = np.ones((X.shape[0], 1))\n",
    "        return np.concatenate((intercept, X), axis=1)\n",
    "    \n",
    "    def __sigmoid(self, z):\n",
    "        return 1 / (1 + np.exp(-z))\n",
    "    def __loss(self, h, y):\n",
    "        return (-y * np.log(h) - (1 - y) * np.log(1 - h)).mean()\n",
    "    \n",
    "    def fit(self, X, y):\n",
    "        if self.fit_intercept:\n",
    "            X = self.__add_intercept(X)\n",
    "        \n",
    "        # weights initialization\n",
    "        self.theta = np.zeros(X.shape[1])\n",
    "        \n",
    "        for i in range(self.num_iter):\n",
    "            z = np.dot(X, self.theta)\n",
    "            h = self.__sigmoid(z)\n",
    "            gradient = np.dot(X.T, (h - y)) / y.size\n",
    "            self.theta -= self.lr * gradient\n",
    "            \n",
    "            if(self.verbose == True and i % 10000 == 0):\n",
    "                z = np.dot(X, self.theta)\n",
    "                h = self.__sigmoid(z)\n",
    "                print(f'loss: {self.__loss(h, y)} \\t')\n",
    "    \n",
    "    def predict_prob(self, X):\n",
    "        if self.fit_intercept:\n",
    "            X = self.__add_intercept(X)\n",
    "    \n",
    "        return self.__sigmoid(np.dot(X, self.theta))\n",
    "    \n",
    "    def predict(self, X, threshold):\n",
    "        return self.predict_prob(X) >= threshold"
   ]
  },
  {
   "cell_type": "code",
   "execution_count": 26,
   "metadata": {},
   "outputs": [
    {
     "data": {
      "text/plain": [
       "matrix([[ True]])"
      ]
     },
     "execution_count": 26,
     "metadata": {},
     "output_type": "execute_result"
    }
   ],
   "source": [
    "X = ionosphere_export[:, :-1]\n",
    "y = ionosphere_export[:, -1]\n",
    "\n",
    "\n",
    "lr2 = LogisticRegression2()\n",
    "lr2.fit(X, y)\n",
    "lr2.predict(np.matrix([[1,1,-0.02401,0.94140,0.06531,0.92106,-0.23255,0.77152,-0.16399,0.52798,-0.20275,0.56409,-0.00712,0.34395,-0.27457,0.52940,-0.21780,0.45107,-0.17813,0.05982,-0.35575,0.02309,-0.52879,0.03286,-0.65158,0.13290,-0.53206,0.02431,-0.62197,-0.05707,-0.59573,-0.04608,-0.65697]]),0.5)"
   ]
  },
  {
   "cell_type": "code",
   "execution_count": null,
   "metadata": {},
   "outputs": [],
   "source": []
  },
  {
   "cell_type": "code",
   "execution_count": null,
   "metadata": {},
   "outputs": [],
   "source": []
  }
 ],
 "metadata": {
  "kernelspec": {
   "display_name": "Python 3",
   "language": "python",
   "name": "python3"
  },
  "language_info": {
   "codemirror_mode": {
    "name": "ipython",
    "version": 3
   },
   "file_extension": ".py",
   "mimetype": "text/x-python",
   "name": "python",
   "nbconvert_exporter": "python",
   "pygments_lexer": "ipython3",
   "version": "3.7.4"
  }
 },
 "nbformat": 4,
 "nbformat_minor": 2
}
