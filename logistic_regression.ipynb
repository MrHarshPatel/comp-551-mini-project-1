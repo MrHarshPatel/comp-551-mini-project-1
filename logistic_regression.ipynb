{
 "cells": [
  {
   "cell_type": "code",
   "execution_count": 4,
   "metadata": {},
   "outputs": [],
   "source": [
    "import numpy as np \n",
    "import matplotlib.pyplot as plt\n",
    "\n",
    "# from sklearn import datasets, linear_model\n",
    "# from sklearn.metrics import mean_squared_error, r2_score"
   ]
  },
  {
   "cell_type": "code",
   "execution_count": 5,
   "metadata": {},
   "outputs": [],
   "source": [
    "# %store -r adult_data_export\n",
    "# %store -r ionosphere_export\n"
   ]
  },
  {
   "cell_type": "code",
   "execution_count": 15,
   "metadata": {},
   "outputs": [],
   "source": [
    "class LogisticRegression:\n",
    "    def __init__(self, num_iter, lr=0.01, use_gradient=False, eps=1e-2,print_graphs=True):        \n",
    "        # initialize hyperparameters \n",
    "        self.lr = lr\n",
    "        self.eps = eps\n",
    "        self.num_iter = num_iter\n",
    "        self.use_gradient = use_gradient\n",
    "        self.w = []\n",
    "        self.print_graphs = print_graphs\n",
    "        \n",
    "    def add_intercept(self, X):\n",
    "        N,D = X.shape\n",
    "        intercept = np.ones((N, 1), dtype = X.dtype)\n",
    "        return np.concatenate((intercept, X), axis=1)\n",
    "        \n",
    "    def sigmoid(self, Z):\n",
    "        return 1 / (1 + np.exp(-Z))\n",
    "    \n",
    "    def fit(self, X, y, validation_set=[], model_name=''):\n",
    "        acc = []\n",
    "        vacc = []\n",
    "        X = self.add_intercept(X)\n",
    "        N,D = X.shape\n",
    "        self.w = np.zeros(D)\n",
    "        \n",
    "        g = np.inf \n",
    "        if(self.use_gradient):\n",
    "            i = 0\n",
    "            while np.linalg.norm(g) > self.eps:\n",
    "                i += 1\n",
    "                yh = self.sigmoid(np.dot(X, self.w))\n",
    "                g = np.dot(X.T, (yh - y)) / N\n",
    "#                 print(g)\n",
    "#                 print(np.linalg.norm(g))\n",
    "                self.w = self.w - self.lr*g\n",
    "                if(i == 10000):\n",
    "                    print(\"Terminating early, 10k iterations reached.\")\n",
    "                    break\n",
    "                if(self.print_graphs):\n",
    "                    if (i%10 == 0):\n",
    "                            y_pred = self.predict(X[:,:-1])\n",
    "                            acc.append(self.accuracy(y, y_pred))\n",
    "                            vacc_pred = self.predict(validation_set[:,:-1])\n",
    "                            vacc.append(self.accuracy(validation_set[:,-1],vacc_pred))\n",
    "        else:\n",
    "            for i in range(self.num_iter):\n",
    "                yh = self.sigmoid(np.dot(X, self.w))\n",
    "                g = np.dot(X.T, (yh - y)) / N\n",
    "                self.w = self.w - self.lr*g\n",
    "                \n",
    "                if(self.print_graphs):\n",
    "                    if (i%10 == 0):\n",
    "                            y_pred = self.predict(X[:,:-1])\n",
    "                            acc.append(self.accuracy(y, y_pred))\n",
    "                            vacc_pred = self.predict(validation_set[:,:-1])\n",
    "                            vacc.append(self.accuracy(validation_set[:,-1],vacc_pred))\n",
    "                \n",
    "        if(self.print_graphs): \n",
    "            # Add title and axis names\n",
    "            plt.title(model_name + ': Training Accuracy Vs. Number of Iterations')\n",
    "            plt.xlabel('Iteration Number')\n",
    "            plt.ylabel('Training Accuracy')\n",
    "\n",
    "            x_values = []\n",
    "            for j, value in enumerate(acc):\n",
    "                x_values.append(j*10)\n",
    "            \n",
    "            plt.plot(x_values,acc)\n",
    "            plt.show()\n",
    "\n",
    "            # Add title and axis names\n",
    "            plt.title(model_name + ': Validation Accuracy Vs. Number of Iterations')\n",
    "            plt.ylabel('Validation Accuracy')\n",
    "            plt.xlabel('Iteration Number')\n",
    "\n",
    "            plt.plot(x_values,vacc)\n",
    "            plt.show()\n",
    "            \n",
    "#         print(self.w)\n",
    "\n",
    "    def accuracy(self,y, yh):\n",
    "        tp = np.sum(np.logical_and(yh==1,y==1))\n",
    "        tn = np.sum(np.logical_and(yh==0,y==0))\n",
    "    \n",
    "        acc = (tp+tn)/y.size\n",
    "        return acc\n",
    "    \n",
    "    def predict(self, X):     \n",
    "        X = self.add_intercept(X)\n",
    "#         N,D = X.shape\n",
    "        yh = self.sigmoid(np.dot(X, self.w))\n",
    "        predictions = (yh >= 0.5).astype(int)\n",
    "        return predictions\n",
    "        \n",
    "        \n",
    "\n",
    "    "
   ]
  },
  {
   "cell_type": "code",
   "execution_count": 16,
   "metadata": {},
   "outputs": [
    {
     "data": {
      "image/png": "[encoded data removed]",
      "text/plain": [
       "<Figure size 432x288 with 1 Axes>"
      ]
     },
     "metadata": {
      "needs_background": "light"
     },
     "output_type": "display_data"
    }
   ],
   "source": [
    "# np.random.shuffle(ionosphere_export)\n",
    "\n",
    "# train_X = ionosphere_export[:300, :-1]\n",
    "# train_y = ionosphere_export[:300, -1]\n",
    "\n",
    "# test_X = ionosphere_export[300:, :-1]\n",
    "# test_y = ionosphere_export[300:, -1]\n",
    "\n",
    "# lr = LogisticRegression(100000)\n",
    "# lr.fit(train_X, train_y)\n",
    "\n",
    "\n",
    "\n",
    "# y_pred = lr.predict(test_X)\n",
    "# lr1_acc = evaluate_acc(y_pred, test_y)\n",
    "# lr.predict(np.matrix([[1,1,-0.02401,0.94140,0.06531,0.92106,-0.23255,0.77152,-0.16399,0.52798,-0.20275,0.56409,-0.00712,0.34395,-0.27457,0.52940,-0.21780,0.45107,-0.17813,0.05982,-0.35575,0.02309,-0.52879,0.03286,-0.65158,0.13290,-0.53206,0.02431,-0.62197,-0.05707,-0.59573,-0.04608,-0.65697],[1,1,-0.02401,0.94140,0.06531,0.92106,-0.23255,0.77152,-0.16399,0.52798,-0.20275,0.56409,-0.00712,0.34395,-0.27457,0.52940,-0.21780,0.45107,-0.17813,0.05982,-0.35575,0.02309,-0.52879,0.03286,-0.65158,0.13290,-0.53206,0.02431,-0.62197,-0.05707,-0.59573,-0.04608,-0.65697]]))"
   ]
  },
  {
   "cell_type": "code",
   "execution_count": null,
   "metadata": {},
   "outputs": [],
   "source": [
    "# lr2 = linear_model.LogisticRegression()\n",
    "# lr2.fit(train_X, train_y)\n",
    "\n",
    "# print(lr2.coef_) # returns a matrix of weights (coefficients)'\n",
    "\n",
    "# y_pred = lr2.predict(test_X)\n",
    "# lr2_acc = evaluate_acc(y_pred, test_y)\n",
    "\n",
    "# print(\"lr1: \", lr1_acc)\n",
    "# print(\"lr2: \", lr2_acc)\n"
   ]
  },
  {
   "cell_type": "code",
   "execution_count": null,
   "metadata": {},
   "outputs": [],
   "source": []
  },
  {
   "cell_type": "code",
   "execution_count": 26,
   "metadata": {},
   "outputs": [
    {
     "data": {
      "text/plain": [
       "matrix([[ True]])"
      ]
     },
     "execution_count": 26,
     "metadata": {},
     "output_type": "execute_result"
    }
   ],
   "source": []
  },
  {
   "cell_type": "code",
   "execution_count": null,
   "metadata": {},
   "outputs": [],
   "source": []
  },
  {
   "cell_type": "code",
   "execution_count": null,
   "metadata": {},
   "outputs": [],
   "source": []
  }
 ],
 "metadata": {
  "kernelspec": {
   "display_name": "Python 3",
   "language": "python",
   "name": "python3"
  },
  "language_info": {
   "codemirror_mode": {
    "name": "ipython",
    "version": 3
   },
   "file_extension": ".py",
   "mimetype": "text/x-python",
   "name": "python",
   "nbconvert_exporter": "python",
   "pygments_lexer": "ipython3",
   "version": "3.7.0"
  }
 },
 "nbformat": 4,
 "nbformat_minor": 2
}
