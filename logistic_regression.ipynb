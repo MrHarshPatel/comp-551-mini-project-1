{
 "cells": [
  {
   "cell_type": "code",
   "execution_count": 14,
   "metadata": {},
   "outputs": [],
   "source": [
    "import numpy as np "
   ]
  },
  {
   "cell_type": "code",
   "execution_count": 15,
   "metadata": {},
   "outputs": [],
   "source": [
    "%run data_preprocessing/ionosphere_data.ipynb"
   ]
  },
  {
   "cell_type": "code",
   "execution_count": 46,
   "metadata": {},
   "outputs": [],
   "source": [
    "class LogisticRegression:\n",
    "    def __init__(self, lr=0.01, eps=1e-2, num_iter=10000, ):        \n",
    "        # initialize hyperparameters \n",
    "        self.lr = lr\n",
    "        self.eps = eps\n",
    "        self.num_iter = num_iter\n",
    "        self.w = []\n",
    "        \n",
    "    def add_intercept(self, X):\n",
    "        N,D = X.shape\n",
    "        intercept = np.ones((N, 1), dtype = X.dtype)\n",
    "        return np.concatenate((intercept, X), axis=1)\n",
    "        \n",
    "    def sigmoid(self, Z):\n",
    "        return 1 / (1 + np.exp(-Z))\n",
    "    \n",
    "    def fit(self, X, y):\n",
    "        X = self.add_intercept(X)\n",
    "        N,D = X.shape\n",
    "        self.w = np.zeros(D)\n",
    "        \n",
    "        g = np.inf \n",
    "        \n",
    "        while np.linalg.norm(g) > self.eps:\n",
    "#         for i in range(100000):\n",
    "            yh = self.sigmoid(np.dot(X, self.w))\n",
    "            g = np.dot(X.T, (yh - y)) / N\n",
    "            self.w = self.w - self.lr*g\n",
    "                \n",
    "\n",
    "    \n",
    "    def predict(self, X):     \n",
    "        X = self.add_intercept(X)\n",
    "        N,D = X.shape\n",
    "        yh = self.sigmoid(np.dot(X, self.w))\n",
    "        predictions = (yh >= 0.5).astype(int)\n",
    "        return predictions\n",
    "        \n",
    "        \n",
    "\n",
    "    "
   ]
  },
  {
   "cell_type": "code",
   "execution_count": 47,
   "metadata": {},
   "outputs": [
    {
     "name": "stdout",
     "output_type": "stream",
     "text": [
      "[-3.90876305  1.97134128  1.69623103  0.6887892   2.05534016  1.3002874\n",
      "  0.56242602  1.68344798  1.23372793  0.13934878 -1.13491116 -0.44780797\n",
      " -0.47324959  1.00497047  0.80591848 -0.21114112  0.29745399  0.69524138\n",
      " -0.62839348 -0.01751338  0.22698444 -2.40109944  1.12854116  0.68270134\n",
      "  0.58273099  1.2635086  -2.46871696 -0.33139439  0.62553685  0.84215945\n",
      "  0.82819734 -0.42234506 -0.29033422 -1.34559573]\n"
     ]
    },
    {
     "data": {
      "text/plain": [
       "matrix([[1, 1]])"
      ]
     },
     "execution_count": 47,
     "metadata": {},
     "output_type": "execute_result"
    }
   ],
   "source": [
    "X = ionosphere_export[:, :-1]\n",
    "y = ionosphere_export[:, -1]\n",
    "\n",
    "\n",
    "lr = LogisticRegression()\n",
    "lr.fit(X, y)\n",
    "lr.predict(np.matrix([[1,1,-0.02401,0.94140,0.06531,0.92106,-0.23255,0.77152,-0.16399,0.52798,-0.20275,0.56409,-0.00712,0.34395,-0.27457,0.52940,-0.21780,0.45107,-0.17813,0.05982,-0.35575,0.02309,-0.52879,0.03286,-0.65158,0.13290,-0.53206,0.02431,-0.62197,-0.05707,-0.59573,-0.04608,-0.65697],[1,1,-0.02401,0.94140,0.06531,0.92106,-0.23255,0.77152,-0.16399,0.52798,-0.20275,0.56409,-0.00712,0.34395,-0.27457,0.52940,-0.21780,0.45107,-0.17813,0.05982,-0.35575,0.02309,-0.52879,0.03286,-0.65158,0.13290,-0.53206,0.02431,-0.62197,-0.05707,-0.59573,-0.04608,-0.65697]]))"
   ]
  },
  {
   "cell_type": "code",
   "execution_count": 32,
   "metadata": {},
   "outputs": [
    {
     "data": {
      "text/plain": [
       "array([[    39,  77516,     13, ...,      1,      0,      0],\n",
       "       [    50,  83311,     13, ...,      1,      0,      0],\n",
       "       [    38, 215646,      9, ...,      1,      0,      0],\n",
       "       ...,\n",
       "       [    38, 374983,     13, ...,      1,      0,      0],\n",
       "       [    44,  83891,     13, ...,      1,      0,      0],\n",
       "       [    35, 182148,     13, ...,      1,      0,      0]], dtype=int64)"
      ]
     },
     "execution_count": 32,
     "metadata": {},
     "output_type": "execute_result"
    }
   ],
   "source": []
  },
  {
   "cell_type": "code",
   "execution_count": 24,
   "metadata": {},
   "outputs": [],
   "source": []
  },
  {
   "cell_type": "code",
   "execution_count": 26,
   "metadata": {},
   "outputs": [
    {
     "data": {
      "text/plain": [
       "matrix([[ True]])"
      ]
     },
     "execution_count": 26,
     "metadata": {},
     "output_type": "execute_result"
    }
   ],
   "source": []
  },
  {
   "cell_type": "code",
   "execution_count": null,
   "metadata": {},
   "outputs": [],
   "source": []
  },
  {
   "cell_type": "code",
   "execution_count": null,
   "metadata": {},
   "outputs": [],
   "source": []
  }
 ],
 "metadata": {
  "kernelspec": {
   "display_name": "Python 3",
   "language": "python",
   "name": "python3"
  },
  "language_info": {
   "codemirror_mode": {
    "name": "ipython",
    "version": 3
   },
   "file_extension": ".py",
   "mimetype": "text/x-python",
   "name": "python",
   "nbconvert_exporter": "python",
   "pygments_lexer": "ipython3",
   "version": "3.7.4"
  }
 },
 "nbformat": 4,
 "nbformat_minor": 2
}
