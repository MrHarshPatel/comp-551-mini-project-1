{
 "cells": [
  {
   "cell_type": "code",
   "execution_count": 25,
   "metadata": {},
   "outputs": [],
   "source": [
    "import numpy as np \n",
    "from sklearn import datasets, linear_model\n",
    "from sklearn.metrics import mean_squared_error, r2_score"
   ]
  },
  {
   "cell_type": "code",
   "execution_count": null,
   "metadata": {},
   "outputs": [],
   "source": [
    "%store -r adult_data_export\n",
    "%store -r ionosphere_export\n"
   ]
  },
  {
   "cell_type": "code",
   "execution_count": null,
   "metadata": {},
   "outputs": [],
   "source": [
    "class LogisticRegression:\n",
    "    def __init__(self, num_iter, lr=0.01, eps=1e-2):        \n",
    "        # initialize hyperparameters \n",
    "        self.lr = lr\n",
    "        self.eps = eps\n",
    "        self.num_iter = num_iter\n",
    "        self.w = []\n",
    "        \n",
    "    def add_intercept(self, X):\n",
    "        N,D = X.shape\n",
    "        intercept = np.ones((N, 1), dtype = X.dtype)\n",
    "        return np.concatenate((intercept, X), axis=1)\n",
    "        \n",
    "    def sigmoid(self, Z):\n",
    "        return 1 / (1 + np.exp(-Z))\n",
    "    \n",
    "    def fit(self, X, y):\n",
    "        X = self.add_intercept(X)\n",
    "        N,D = X.shape\n",
    "        self.w = np.zeros(D)\n",
    "        \n",
    "        g = np.inf \n",
    "        \n",
    "#         while np.linalg.norm(g) > self.eps:\n",
    "        for i in range(self.num_iter):\n",
    "            yh = self.sigmoid(np.dot(X, self.w))\n",
    "            g = np.dot(X.T, (yh - y)) / N\n",
    "            self.w = self.w - self.lr*g\n",
    "            \n",
    "        print(self.w)\n",
    "\n",
    "    \n",
    "    def predict(self, X):     \n",
    "        X = self.add_intercept(X)\n",
    "#         N,D = X.shape\n",
    "        yh = self.sigmoid(np.dot(X, self.w))\n",
    "        predictions = (yh >= 0.5).astype(int)\n",
    "        return predictions\n",
    "        \n",
    "        \n",
    "\n",
    "    "
   ]
  },
  {
   "cell_type": "code",
   "execution_count": null,
   "metadata": {},
   "outputs": [],
   "source": [
    "# np.random.shuffle(ionosphere_export)\n",
    "\n",
    "# train_X = ionosphere_export[:300, :-1]\n",
    "# train_y = ionosphere_export[:300, -1]\n",
    "\n",
    "# test_X = ionosphere_export[300:, :-1]\n",
    "# test_y = ionosphere_export[300:, -1]\n",
    "\n",
    "# lr = LogisticRegression(100000)\n",
    "# lr.fit(train_X, train_y)\n",
    "\n",
    "# y_pred = lr.predict(test_X)\n",
    "# lr1_acc = evaluate_acc(y_pred, test_y)\n",
    "# # lr.predict(np.matrix([[1,1,-0.02401,0.94140,0.06531,0.92106,-0.23255,0.77152,-0.16399,0.52798,-0.20275,0.56409,-0.00712,0.34395,-0.27457,0.52940,-0.21780,0.45107,-0.17813,0.05982,-0.35575,0.02309,-0.52879,0.03286,-0.65158,0.13290,-0.53206,0.02431,-0.62197,-0.05707,-0.59573,-0.04608,-0.65697],[1,1,-0.02401,0.94140,0.06531,0.92106,-0.23255,0.77152,-0.16399,0.52798,-0.20275,0.56409,-0.00712,0.34395,-0.27457,0.52940,-0.21780,0.45107,-0.17813,0.05982,-0.35575,0.02309,-0.52879,0.03286,-0.65158,0.13290,-0.53206,0.02431,-0.62197,-0.05707,-0.59573,-0.04608,-0.65697]]))"
   ]
  },
  {
   "cell_type": "code",
   "execution_count": null,
   "metadata": {},
   "outputs": [],
   "source": [
    "# lr2 = linear_model.LogisticRegression()\n",
    "# lr2.fit(train_X, train_y)\n",
    "\n",
    "# print(lr2.coef_) # returns a matrix of weights (coefficients)'\n",
    "\n",
    "# y_pred = lr2.predict(test_X)\n",
    "# lr2_acc = evaluate_acc(y_pred, test_y)\n",
    "\n",
    "# print(\"lr1: \", lr1_acc)\n",
    "# print(\"lr2: \", lr2_acc)\n"
   ]
  },
  {
   "cell_type": "code",
   "execution_count": null,
   "metadata": {},
   "outputs": [],
   "source": []
  },
  {
   "cell_type": "code",
   "execution_count": 26,
   "metadata": {},
   "outputs": [
    {
     "data": {
      "text/plain": [
       "matrix([[ True]])"
      ]
     },
     "execution_count": 26,
     "metadata": {},
     "output_type": "execute_result"
    }
   ],
   "source": []
  },
  {
   "cell_type": "code",
   "execution_count": null,
   "metadata": {},
   "outputs": [],
   "source": []
  },
  {
   "cell_type": "code",
   "execution_count": null,
   "metadata": {},
   "outputs": [],
   "source": []
  }
 ],
 "metadata": {
  "kernelspec": {
   "display_name": "Python 3",
   "language": "python",
   "name": "python3"
  },
  "language_info": {
   "codemirror_mode": {
    "name": "ipython",
    "version": 3
   },
   "file_extension": ".py",
   "mimetype": "text/x-python",
   "name": "python",
   "nbconvert_exporter": "python",
   "pygments_lexer": "ipython3",
   "version": "3.7.4"
  }
 },
 "nbformat": 4,
 "nbformat_minor": 2
}
