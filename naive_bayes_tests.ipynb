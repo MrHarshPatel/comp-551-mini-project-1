{
 "cells": [
  {
   "cell_type": "code",
   "execution_count": 187,
   "metadata": {},
   "outputs": [],
   "source": [
    "%run run_experiments.ipynb"
   ]
  },
  {
   "cell_type": "code",
   "execution_count": 188,
   "metadata": {},
   "outputs": [],
   "source": [
    "models = {\n",
    "    \"NaiveBayes Log Laplace\": {\n",
    "        \"data_headers\": True,\n",
    "        \"model_args\":[True],\n",
    "    },\n",
    "    \"NaiveBayes Without Log Laplace\": {\n",
    "        \"data_headers\": True,\n",
    "        \"model_args\":[False]\n",
    "    },\n",
    "}"
   ]
  },
  {
   "cell_type": "code",
   "execution_count": 189,
   "metadata": {},
   "outputs": [],
   "source": [
    "def get_split(dataset, train_percentage):\n",
    "    dataset_copy = dataset\n",
    "    length = len(dataset_copy)\n",
    "    train_length = int(train_percentage * length)\n",
    "    \n",
    "    # Shuffle it!\n",
    "    np.random.shuffle(dataset_copy)\n",
    "    \n",
    "    train = dataset_copy[:train_length]\n",
    "    test = dataset_copy[train_length:]\n",
    "    return {\"train\": train, \"test\": test}"
   ]
  },
  {
   "cell_type": "code",
   "execution_count": 190,
   "metadata": {},
   "outputs": [],
   "source": [
    "def split_datasets(train_percentage):\n",
    "    splits = {}\n",
    "    print(\"Splitting with training {}% for each dataset -----\".format(train_percentage*100))\n",
    "    for key, dataset_arr in datasets.items():\n",
    "        split = get_split(dataset_arr[0],train_percentage)\n",
    "        \n",
    "        print(\"\\t {} Train Size: {}\".format(key,len(split[\"train\"])))\n",
    "        print(\"\\t {} Test Size: {}\".format(key,len(split[\"test\"])))\n",
    "        splits[key] = split\n",
    "    return splits"
   ]
  },
  {
   "cell_type": "code",
   "execution_count": 191,
   "metadata": {},
   "outputs": [],
   "source": [
    "def split_tests_nb(train_percentages):\n",
    "    for train_percentage in train_percentages:\n",
    "        splits = split_datasets(train_percentage)\n",
    "        for dataset_name, dataset in splits.items():\n",
    "            for model_name, model_params in models.items():\n",
    "                print()\n",
    "                print(\"\\tFitting {} with {} \".format(dataset_name,model_name))\n",
    "                \n",
    "                if(model_params[\"data_headers\"] == True):\n",
    "                    model = run_fit(splits[dataset_name][\"train\"],\"NaiveBayes\", datasets[dataset_name][1], model_params[\"model_args\"])\n",
    "                else:\n",
    "                    model = run_fit(splits[dataset_name][\"train\"],\"NaiveBayes\", [], model_params[\"model_args\"])\n",
    "\n",
    "                print(\"\\tPredicting {} with {}\".format(dataset_name, model_name))\n",
    "                print(\"\\t\\tGot accuracy of: {}\".format(run_predict(splits[dataset_name][\"test\"],model)))"
   ]
  },
  {
   "cell_type": "code",
   "execution_count": null,
   "metadata": {},
   "outputs": [
    {
     "name": "stdout",
     "output_type": "stream",
     "text": [
      "Splitting with training 90.0% for each dataset -----\n",
      "\t ionosphere Train Size: 315\n",
      "\t ionosphere Test Size: 36\n",
      "\t adult Train Size: 40699\n",
      "\t adult Test Size: 4523\n",
      "\t thoracic_surgery Train Size: 423\n",
      "\t thoracic_surgery Test Size: 47\n",
      "\t credit_card Train Size: 27000\n",
      "\t credit_card Test Size: 3000\n",
      "\n",
      "\tFitting ionosphere with NaiveBayes Log Laplace \n",
      "\tPredicting ionosphere with NaiveBayes Log Laplace\n",
      "\t\tGot accuracy of: 0.7777777777777778\n",
      "\n",
      "\tFitting ionosphere with NaiveBayes Without Log Laplace \n",
      "\tPredicting ionosphere with NaiveBayes Without Log Laplace\n",
      "\t\tGot accuracy of: 0.7777777777777778\n",
      "\n",
      "\tFitting adult with NaiveBayes Log Laplace \n"
     ]
    }
   ],
   "source": [
    "split_tests_nb([0.9])"
   ]
  },
  {
   "cell_type": "code",
   "execution_count": null,
   "metadata": {},
   "outputs": [],
   "source": []
  }
 ],
 "metadata": {
  "kernelspec": {
   "display_name": "Python 3",
   "language": "python",
   "name": "python3"
  },
  "language_info": {
   "codemirror_mode": {
    "name": "ipython",
    "version": 3
   },
   "file_extension": ".py",
   "mimetype": "text/x-python",
   "name": "python",
   "nbconvert_exporter": "python",
   "pygments_lexer": "ipython3",
   "version": "3.7.0"
  }
 },
 "nbformat": 4,
 "nbformat_minor": 2
}
